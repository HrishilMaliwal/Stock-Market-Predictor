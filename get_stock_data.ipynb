{
 "cells": [
  {
   "cell_type": "code",
   "execution_count": 1,
   "metadata": {},
   "outputs": [],
   "source": [
    "import yfinance as yf\n",
    "\n",
    "import pandas as pd"
   ]
  },
  {
   "cell_type": "code",
   "execution_count": 2,
   "metadata": {},
   "outputs": [],
   "source": [
    "df=pd.read_html('https://finance.yahoo.com/quote/%5EBSESN/components?p=%5EBSESN')[0]"
   ]
  },
  {
   "cell_type": "code",
   "execution_count": 3,
   "metadata": {},
   "outputs": [],
   "source": [
    "tickers=df.Symbol.to_list()"
   ]
  },
  {
   "cell_type": "code",
   "execution_count": 4,
   "metadata": {},
   "outputs": [
    {
     "output_type": "execute_result",
     "data": {
      "text/plain": [
       "['500010.BO',\n",
       " '532174.BO',\n",
       " '500790.BO',\n",
       " '532281.BO',\n",
       " '500180.BO',\n",
       " '532978.BO',\n",
       " '500209.BO',\n",
       " '532538.BO',\n",
       " '532977.BO',\n",
       " '524715.BO',\n",
       " '532898.BO',\n",
       " '532755.BO',\n",
       " '532215.BO',\n",
       " '500325.BO',\n",
       " '500875.BO',\n",
       " '532555.BO',\n",
       " '500820.BO',\n",
       " '532500.BO',\n",
       " '500247.BO',\n",
       " '500312.BO',\n",
       " '532454.BO',\n",
       " '500510.BO',\n",
       " '500114.BO',\n",
       " '500520.BO',\n",
       " '500124.BO',\n",
       " '500696.BO',\n",
       " '532540.BO',\n",
       " '500112.BO',\n",
       " '500034.BO',\n",
       " '532187.BO']"
      ]
     },
     "metadata": {},
     "execution_count": 4
    }
   ],
   "source": [
    "tickers\n"
   ]
  },
  {
   "cell_type": "code",
   "execution_count": 5,
   "metadata": {},
   "outputs": [],
   "source": [
    "from bsedata.bse import BSE\n",
    "b=BSE()"
   ]
  },
  {
   "cell_type": "code",
   "execution_count": 6,
   "metadata": {},
   "outputs": [
    {
     "output_type": "execute_result",
     "data": {
      "text/plain": [
       "{'companyName': 'INDUSIND BANK LTD.',\n",
       " 'currentValue': '1039.75',\n",
       " 'change': '-52.35',\n",
       " 'pChange': '-4.79',\n",
       " 'updatedOn': '05 Mar 21 | 04:00 PM',\n",
       " 'priceBand': '',\n",
       " 'securityID': 'INDUSINDBK',\n",
       " 'scripCode': '532187',\n",
       " 'group': 'A  / S&P BSE SENSEX',\n",
       " 'faceValue': '10.00',\n",
       " 'industry': 'Banks',\n",
       " 'previousClose': '1092.10',\n",
       " 'previousOpen': '1080.55',\n",
       " 'dayHigh': '1084.05',\n",
       " 'dayLow': '1025.60',\n",
       " '52weekHigh': '1119.20',\n",
       " '52weekLow': '235.60',\n",
       " 'weightedAvgPrice': '1045.57',\n",
       " 'totalTradedValue': '79.86 Cr.',\n",
       " 'totalTradedQuantity': '7.64 Lakh',\n",
       " '2WeekAvgQuantity': '5.61 Lakh',\n",
       " 'marketCapFull': '78,749.02 Cr.',\n",
       " 'marketCapFreeFloat': '58,274.28 Cr.',\n",
       " 'upperPriceBand': '',\n",
       " 'lowerPriceBand': '',\n",
       " 'buy': {'1': {'quantity': '-', 'price': '0.00'},\n",
       "  '2': {'quantity': '-', 'price': '0.00'},\n",
       "  '3': {'quantity': '-', 'price': '0.00'},\n",
       "  '4': {'quantity': '-', 'price': '0.00'},\n",
       "  '5': {'quantity': '-', 'price': '0.00'}},\n",
       " 'sell': {'1': {'price': '0.00', 'quantity': '-'},\n",
       "  '2': {'price': '0.00', 'quantity': '-'},\n",
       "  '3': {'price': '0.00', 'quantity': '-'},\n",
       "  '4': {'price': '0.00', 'quantity': '-'},\n",
       "  '5': {'price': '0.00', 'quantity': '-'}}}"
      ]
     },
     "metadata": {},
     "execution_count": 6
    }
   ],
   "source": [
    "b.getQuote('532187')"
   ]
  },
  {
   "cell_type": "code",
   "execution_count": 7,
   "metadata": {},
   "outputs": [],
   "source": [
    "codes=[i[:-3] for i in tickers]\n",
    "india = []\n",
    "for i in codes:\n",
    "    india.append(b.getQuote(i)['securityID'])"
   ]
  },
  {
   "cell_type": "code",
   "execution_count": 8,
   "metadata": {},
   "outputs": [
    {
     "output_type": "execute_result",
     "data": {
      "text/plain": [
       "['HDFC',\n",
       " 'ICICIBANK',\n",
       " 'NESTLEIND',\n",
       " 'HCLTECH',\n",
       " 'HDFCBANK',\n",
       " 'BAJAJFINSV',\n",
       " 'INFY',\n",
       " 'ULTRACEMCO',\n",
       " 'BAJAJ-AUTO',\n",
       " 'SUNPHARMA',\n",
       " 'POWERGRID',\n",
       " 'TECHM',\n",
       " 'AXISBANK',\n",
       " 'RELIANCE',\n",
       " 'ITC',\n",
       " 'NTPC',\n",
       " 'ASIANPAINT',\n",
       " 'MARUTI',\n",
       " 'KOTAKBANK',\n",
       " 'ONGC',\n",
       " 'BHARTIARTL',\n",
       " 'LT',\n",
       " 'TITAN',\n",
       " 'M&M',\n",
       " 'DRREDDY',\n",
       " 'HINDUNILVR',\n",
       " 'TCS',\n",
       " 'SBIN',\n",
       " 'BAJFINANCE',\n",
       " 'INDUSINDBK']"
      ]
     },
     "metadata": {},
     "execution_count": 8
    }
   ],
   "source": [
    "india\n"
   ]
  },
  {
   "cell_type": "code",
   "execution_count": 9,
   "metadata": {},
   "outputs": [],
   "source": [
    "data =[i+'.NS' for i in india]"
   ]
  },
  {
   "cell_type": "code",
   "execution_count": 10,
   "metadata": {},
   "outputs": [
    {
     "output_type": "execute_result",
     "data": {
      "text/plain": [
       "['HDFC.NS',\n",
       " 'ICICIBANK.NS',\n",
       " 'NESTLEIND.NS',\n",
       " 'HCLTECH.NS',\n",
       " 'HDFCBANK.NS',\n",
       " 'BAJAJFINSV.NS',\n",
       " 'INFY.NS',\n",
       " 'ULTRACEMCO.NS',\n",
       " 'BAJAJ-AUTO.NS',\n",
       " 'SUNPHARMA.NS',\n",
       " 'POWERGRID.NS',\n",
       " 'TECHM.NS',\n",
       " 'AXISBANK.NS',\n",
       " 'RELIANCE.NS',\n",
       " 'ITC.NS',\n",
       " 'NTPC.NS',\n",
       " 'ASIANPAINT.NS',\n",
       " 'MARUTI.NS',\n",
       " 'KOTAKBANK.NS',\n",
       " 'ONGC.NS',\n",
       " 'BHARTIARTL.NS',\n",
       " 'LT.NS',\n",
       " 'TITAN.NS',\n",
       " 'M&M.NS',\n",
       " 'DRREDDY.NS',\n",
       " 'HINDUNILVR.NS',\n",
       " 'TCS.NS',\n",
       " 'SBIN.NS',\n",
       " 'BAJFINANCE.NS',\n",
       " 'INDUSINDBK.NS']"
      ]
     },
     "metadata": {},
     "execution_count": 10
    }
   ],
   "source": [
    "data"
   ]
  },
  {
   "cell_type": "code",
   "execution_count": 11,
   "metadata": {},
   "outputs": [
    {
     "output_type": "stream",
     "name": "stdout",
     "text": [
      "[*********************100%***********************]  30 of 30 completed\n"
     ]
    }
   ],
   "source": [
    "df=yf.download(data)"
   ]
  },
  {
   "cell_type": "code",
   "execution_count": 12,
   "metadata": {},
   "outputs": [],
   "source": [
    "returns=df['Adj Close'].pct_change()"
   ]
  },
  {
   "cell_type": "code",
   "execution_count": 13,
   "metadata": {},
   "outputs": [],
   "source": [
    "returns.dropna(inplace=True)"
   ]
  },
  {
   "cell_type": "code",
   "execution_count": 14,
   "metadata": {},
   "outputs": [
    {
     "output_type": "stream",
     "name": "stdout",
     "text": [
      "               Adj Close                                          \\\n           ASIANPAINT.NS AXISBANK.NS BAJAJ-AUTO.NS BAJAJFINSV.NS   \nDate                                                               \n1996-01-01           NaN         NaN           NaN           NaN   \n1996-01-02           NaN         NaN           NaN           NaN   \n1996-01-03           NaN         NaN           NaN           NaN   \n1996-01-04           NaN         NaN           NaN           NaN   \n1996-01-05           NaN         NaN           NaN           NaN   \n...                  ...         ...           ...           ...   \n2021-03-01   2362.300049  728.549988   3814.050049   9774.049805   \n2021-03-02   2390.399902  731.250000   3944.050049   9877.000000   \n2021-03-03   2402.100098  753.950012   3901.100098  10395.599609   \n2021-03-04   2417.100098  736.799988   3879.050049  10129.950195   \n2021-03-05   2387.100098  730.750000   3852.850098   9958.099609   \n\n                                                                              \\\n           BAJFINANCE.NS BHARTIARTL.NS   DRREDDY.NS  HCLTECH.NS      HDFC.NS   \nDate                                                                           \n1996-01-01           NaN           NaN    49.022575         NaN          NaN   \n1996-01-02           NaN           NaN    48.604893         NaN          NaN   \n1996-01-03           NaN           NaN    48.626877         NaN          NaN   \n1996-01-04           NaN           NaN    46.879208         NaN          NaN   \n1996-01-05           NaN           NaN    45.769058         NaN          NaN   \n...                  ...           ...          ...         ...          ...   \n2021-03-01   5266.799805    532.200012  4453.399902  930.349976  2606.000000   \n2021-03-02   5316.299805    541.200012  4404.700195  953.750000  2564.000000   \n2021-03-03   5542.899902    546.299988  4502.549805  965.250000  2654.899902   \n2021-03-04   5485.899902    539.599976  4575.049805  958.000000  2582.949951   \n2021-03-05   5444.899902    532.799988  4492.500000  941.500000  2543.899902   \n\n                         ...      Volume                           \\\n            HDFCBANK.NS  ...     NTPC.NS     ONGC.NS POWERGRID.NS   \nDate                     ...                                        \n1996-01-01     2.428210  ...         NaN     10800.0          NaN   \n1996-01-02     2.424136  ...         NaN     27000.0          NaN   \n1996-01-03     2.432283  ...         NaN     10800.0          NaN   \n1996-01-04     2.415987  ...         NaN     41400.0          NaN   \n1996-01-05     2.411913  ...         NaN     46800.0          NaN   \n...                 ...  ...         ...         ...          ...   \n2021-03-01  1558.900024  ...  27205189.0  41672980.0   17686096.0   \n2021-03-02  1568.199951  ...  53649872.0  36303917.0   10250883.0   \n2021-03-03  1586.849976  ...  31702057.0  19434630.0   10884683.0   \n2021-03-04  1552.050049  ...  28057179.0  38272786.0   12861986.0   \n2021-03-05  1530.000000  ...  24778407.0  57756103.0    9755263.0   \n\n                                                                        \\\n            RELIANCE.NS     SBIN.NS SUNPHARMA.NS     TCS.NS   TECHM.NS   \nDate                                                                     \n1996-01-01   48051995.0  43733533.0      38730.0        NaN        NaN   \n1996-01-02   77875009.0  56167280.0      77460.0        NaN        NaN   \n1996-01-03   96602936.0  68296318.0      12910.0        NaN        NaN   \n1996-01-04  100099436.0  86073880.0      64550.0        NaN        NaN   \n1996-01-05   76935930.0  76613039.0      12910.0        NaN        NaN   \n...                 ...         ...          ...        ...        ...   \n2021-03-01    8159670.0  29677890.0    5274758.0  3265871.0  3429569.0   \n2021-03-02    7915073.0  30534337.0    4776776.0  3306469.0  3703190.0   \n2021-03-03   14733134.0  46268223.0    6626297.0  3509857.0  3203532.0   \n2021-03-04    9892597.0  43603653.0   11530735.0  3916760.0  5134954.0   \n2021-03-05   11773630.0  72179228.0    6127488.0  3203686.0  2618145.0   \n\n                                     \n             TITAN.NS ULTRACEMCO.NS  \nDate                                 \n1996-01-01     4000.0           NaN  \n1996-01-02    24000.0           NaN  \n1996-01-03    22000.0           NaN  \n1996-01-04    46000.0           NaN  \n1996-01-05    20000.0           NaN  \n...               ...           ...  \n2021-03-01  1962042.0      609302.0  \n2021-03-02  1293306.0      438046.0  \n2021-03-03  1227772.0      467421.0  \n2021-03-04  1822476.0     1303144.0  \n2021-03-05  1954113.0     1828811.0  \n\n[6335 rows x 180 columns]\n"
     ]
    }
   ],
   "source": [
    "print(df)"
   ]
  },
  {
   "cell_type": "code",
   "execution_count": 15,
   "metadata": {},
   "outputs": [],
   "source": [
    "gfg_csv_data = df.to_csv('stockdata.csv', index = True) \n"
   ]
  },
  {
   "cell_type": "code",
   "execution_count": 16,
   "metadata": {},
   "outputs": [],
   "source": [
    "df2=pd.read_html('https://finance.yahoo.com/quote/%5ENSEI/components?p=%5ENSEI')[0]\n",
    "tickers2=df2.Symbol.to_list()"
   ]
  },
  {
   "cell_type": "code",
   "execution_count": 17,
   "metadata": {},
   "outputs": [],
   "source": [
    "codes2=[i[:-3] for i in tickers]\n",
    "india2 = []\n",
    "for i in codes2:\n",
    "    india2.append(b.getQuote(i)['securityID'])"
   ]
  },
  {
   "cell_type": "code",
   "execution_count": 18,
   "metadata": {},
   "outputs": [
    {
     "output_type": "execute_result",
     "data": {
      "text/plain": [
       "['HDFC',\n",
       " 'ICICIBANK',\n",
       " 'NESTLEIND',\n",
       " 'HCLTECH',\n",
       " 'HDFCBANK',\n",
       " 'BAJAJFINSV',\n",
       " 'INFY',\n",
       " 'ULTRACEMCO',\n",
       " 'BAJAJ-AUTO',\n",
       " 'SUNPHARMA',\n",
       " 'POWERGRID',\n",
       " 'TECHM',\n",
       " 'AXISBANK',\n",
       " 'RELIANCE',\n",
       " 'ITC',\n",
       " 'NTPC',\n",
       " 'ASIANPAINT',\n",
       " 'MARUTI',\n",
       " 'KOTAKBANK',\n",
       " 'ONGC',\n",
       " 'BHARTIARTL',\n",
       " 'LT',\n",
       " 'TITAN',\n",
       " 'M&M',\n",
       " 'DRREDDY',\n",
       " 'HINDUNILVR',\n",
       " 'TCS',\n",
       " 'SBIN',\n",
       " 'BAJFINANCE',\n",
       " 'INDUSINDBK']"
      ]
     },
     "metadata": {},
     "execution_count": 18
    }
   ],
   "source": [
    "india2"
   ]
  },
  {
   "cell_type": "code",
   "execution_count": 19,
   "metadata": {},
   "outputs": [],
   "source": [
    "data =[i+'.NS' for i in india2]"
   ]
  },
  {
   "cell_type": "code",
   "execution_count": 20,
   "metadata": {},
   "outputs": [
    {
     "output_type": "execute_result",
     "data": {
      "text/plain": [
       "['500010.BO',\n",
       " '532174.BO',\n",
       " '500790.BO',\n",
       " '532281.BO',\n",
       " '500180.BO',\n",
       " '532978.BO',\n",
       " '500209.BO',\n",
       " '532538.BO',\n",
       " '532977.BO',\n",
       " '524715.BO',\n",
       " '532898.BO',\n",
       " '532755.BO',\n",
       " '532215.BO',\n",
       " '500325.BO',\n",
       " '500875.BO',\n",
       " '532555.BO',\n",
       " '500820.BO',\n",
       " '532500.BO',\n",
       " '500247.BO',\n",
       " '500312.BO',\n",
       " '532454.BO',\n",
       " '500510.BO',\n",
       " '500114.BO',\n",
       " '500520.BO',\n",
       " '500124.BO',\n",
       " '500696.BO',\n",
       " '532540.BO',\n",
       " '500112.BO',\n",
       " '500034.BO',\n",
       " '532187.BO']"
      ]
     },
     "metadata": {},
     "execution_count": 20
    }
   ],
   "source": [
    "tickers"
   ]
  },
  {
   "cell_type": "code",
   "execution_count": 21,
   "metadata": {},
   "outputs": [
    {
     "output_type": "stream",
     "name": "stdout",
     "text": [
      "[*********************100%***********************]  30 of 30 completed\n"
     ]
    }
   ],
   "source": [
    "df2=yf.download(data)"
   ]
  },
  {
   "cell_type": "code",
   "execution_count": 22,
   "metadata": {
    "scrolled": true
   },
   "outputs": [
    {
     "output_type": "execute_result",
     "data": {
      "text/plain": [
       "               Adj Close                                          \\\n",
       "           ASIANPAINT.NS AXISBANK.NS BAJAJ-AUTO.NS BAJAJFINSV.NS   \n",
       "Date                                                               \n",
       "1996-01-01           NaN         NaN           NaN           NaN   \n",
       "1996-01-02           NaN         NaN           NaN           NaN   \n",
       "1996-01-03           NaN         NaN           NaN           NaN   \n",
       "1996-01-04           NaN         NaN           NaN           NaN   \n",
       "1996-01-05           NaN         NaN           NaN           NaN   \n",
       "...                  ...         ...           ...           ...   \n",
       "2021-03-01   2362.300049  728.549988   3814.050049   9774.049805   \n",
       "2021-03-02   2390.399902  731.250000   3944.050049   9877.000000   \n",
       "2021-03-03   2402.100098  753.950012   3901.100098  10395.599609   \n",
       "2021-03-04   2417.100098  736.799988   3879.050049  10129.950195   \n",
       "2021-03-05   2387.100098  730.750000   3852.850098   9958.099609   \n",
       "\n",
       "                                                                              \\\n",
       "           BAJFINANCE.NS BHARTIARTL.NS   DRREDDY.NS  HCLTECH.NS      HDFC.NS   \n",
       "Date                                                                           \n",
       "1996-01-01           NaN           NaN    49.022575         NaN          NaN   \n",
       "1996-01-02           NaN           NaN    48.604893         NaN          NaN   \n",
       "1996-01-03           NaN           NaN    48.626877         NaN          NaN   \n",
       "1996-01-04           NaN           NaN    46.879208         NaN          NaN   \n",
       "1996-01-05           NaN           NaN    45.769058         NaN          NaN   \n",
       "...                  ...           ...          ...         ...          ...   \n",
       "2021-03-01   5266.799805    532.200012  4453.399902  930.349976  2606.000000   \n",
       "2021-03-02   5316.299805    541.200012  4404.700195  953.750000  2564.000000   \n",
       "2021-03-03   5542.899902    546.299988  4502.549805  965.250000  2654.899902   \n",
       "2021-03-04   5485.899902    539.599976  4575.049805  958.000000  2582.949951   \n",
       "2021-03-05   5444.899902    532.799988  4492.500000  941.500000  2543.899902   \n",
       "\n",
       "                         ...      Volume                           \\\n",
       "            HDFCBANK.NS  ...     NTPC.NS     ONGC.NS POWERGRID.NS   \n",
       "Date                     ...                                        \n",
       "1996-01-01     2.428210  ...         NaN     10800.0          NaN   \n",
       "1996-01-02     2.424136  ...         NaN     27000.0          NaN   \n",
       "1996-01-03     2.432283  ...         NaN     10800.0          NaN   \n",
       "1996-01-04     2.415987  ...         NaN     41400.0          NaN   \n",
       "1996-01-05     2.411913  ...         NaN     46800.0          NaN   \n",
       "...                 ...  ...         ...         ...          ...   \n",
       "2021-03-01  1558.900024  ...  27205189.0  41672980.0   17686096.0   \n",
       "2021-03-02  1568.199951  ...  53649872.0  36303917.0   10250883.0   \n",
       "2021-03-03  1586.849976  ...  31702057.0  19434630.0   10884683.0   \n",
       "2021-03-04  1552.050049  ...  28057179.0  38272786.0   12861986.0   \n",
       "2021-03-05  1530.000000  ...  24778407.0  57756103.0    9755263.0   \n",
       "\n",
       "                                                                        \\\n",
       "            RELIANCE.NS     SBIN.NS SUNPHARMA.NS     TCS.NS   TECHM.NS   \n",
       "Date                                                                     \n",
       "1996-01-01   48051995.0  43733533.0      38730.0        NaN        NaN   \n",
       "1996-01-02   77875009.0  56167280.0      77460.0        NaN        NaN   \n",
       "1996-01-03   96602936.0  68296318.0      12910.0        NaN        NaN   \n",
       "1996-01-04  100099436.0  86073880.0      64550.0        NaN        NaN   \n",
       "1996-01-05   76935930.0  76613039.0      12910.0        NaN        NaN   \n",
       "...                 ...         ...          ...        ...        ...   \n",
       "2021-03-01    8159670.0  29677890.0    5274758.0  3265871.0  3429569.0   \n",
       "2021-03-02    7915073.0  30534337.0    4776776.0  3306469.0  3703190.0   \n",
       "2021-03-03   14733134.0  46268223.0    6626297.0  3509857.0  3203532.0   \n",
       "2021-03-04    9892597.0  43603653.0   11530735.0  3916760.0  5134954.0   \n",
       "2021-03-05   11773630.0  72179228.0    6127488.0  3203686.0  2618145.0   \n",
       "\n",
       "                                     \n",
       "             TITAN.NS ULTRACEMCO.NS  \n",
       "Date                                 \n",
       "1996-01-01     4000.0           NaN  \n",
       "1996-01-02    24000.0           NaN  \n",
       "1996-01-03    22000.0           NaN  \n",
       "1996-01-04    46000.0           NaN  \n",
       "1996-01-05    20000.0           NaN  \n",
       "...               ...           ...  \n",
       "2021-03-01  1962042.0      609302.0  \n",
       "2021-03-02  1293306.0      438046.0  \n",
       "2021-03-03  1227772.0      467421.0  \n",
       "2021-03-04  1822476.0     1303144.0  \n",
       "2021-03-05  1954113.0     1828811.0  \n",
       "\n",
       "[6335 rows x 180 columns]"
      ],
      "text/html": "<div>\n<style scoped>\n    .dataframe tbody tr th:only-of-type {\n        vertical-align: middle;\n    }\n\n    .dataframe tbody tr th {\n        vertical-align: top;\n    }\n\n    .dataframe thead tr th {\n        text-align: left;\n    }\n\n    .dataframe thead tr:last-of-type th {\n        text-align: right;\n    }\n</style>\n<table border=\"1\" class=\"dataframe\">\n  <thead>\n    <tr>\n      <th></th>\n      <th colspan=\"10\" halign=\"left\">Adj Close</th>\n      <th>...</th>\n      <th colspan=\"10\" halign=\"left\">Volume</th>\n    </tr>\n    <tr>\n      <th></th>\n      <th>ASIANPAINT.NS</th>\n      <th>AXISBANK.NS</th>\n      <th>BAJAJ-AUTO.NS</th>\n      <th>BAJAJFINSV.NS</th>\n      <th>BAJFINANCE.NS</th>\n      <th>BHARTIARTL.NS</th>\n      <th>DRREDDY.NS</th>\n      <th>HCLTECH.NS</th>\n      <th>HDFC.NS</th>\n      <th>HDFCBANK.NS</th>\n      <th>...</th>\n      <th>NTPC.NS</th>\n      <th>ONGC.NS</th>\n      <th>POWERGRID.NS</th>\n      <th>RELIANCE.NS</th>\n      <th>SBIN.NS</th>\n      <th>SUNPHARMA.NS</th>\n      <th>TCS.NS</th>\n      <th>TECHM.NS</th>\n      <th>TITAN.NS</th>\n      <th>ULTRACEMCO.NS</th>\n    </tr>\n    <tr>\n      <th>Date</th>\n      <th></th>\n      <th></th>\n      <th></th>\n      <th></th>\n      <th></th>\n      <th></th>\n      <th></th>\n      <th></th>\n      <th></th>\n      <th></th>\n      <th></th>\n      <th></th>\n      <th></th>\n      <th></th>\n      <th></th>\n      <th></th>\n      <th></th>\n      <th></th>\n      <th></th>\n      <th></th>\n      <th></th>\n    </tr>\n  </thead>\n  <tbody>\n    <tr>\n      <th>1996-01-01</th>\n      <td>NaN</td>\n      <td>NaN</td>\n      <td>NaN</td>\n      <td>NaN</td>\n      <td>NaN</td>\n      <td>NaN</td>\n      <td>49.022575</td>\n      <td>NaN</td>\n      <td>NaN</td>\n      <td>2.428210</td>\n      <td>...</td>\n      <td>NaN</td>\n      <td>10800.0</td>\n      <td>NaN</td>\n      <td>48051995.0</td>\n      <td>43733533.0</td>\n      <td>38730.0</td>\n      <td>NaN</td>\n      <td>NaN</td>\n      <td>4000.0</td>\n      <td>NaN</td>\n    </tr>\n    <tr>\n      <th>1996-01-02</th>\n      <td>NaN</td>\n      <td>NaN</td>\n      <td>NaN</td>\n      <td>NaN</td>\n      <td>NaN</td>\n      <td>NaN</td>\n      <td>48.604893</td>\n      <td>NaN</td>\n      <td>NaN</td>\n      <td>2.424136</td>\n      <td>...</td>\n      <td>NaN</td>\n      <td>27000.0</td>\n      <td>NaN</td>\n      <td>77875009.0</td>\n      <td>56167280.0</td>\n      <td>77460.0</td>\n      <td>NaN</td>\n      <td>NaN</td>\n      <td>24000.0</td>\n      <td>NaN</td>\n    </tr>\n    <tr>\n      <th>1996-01-03</th>\n      <td>NaN</td>\n      <td>NaN</td>\n      <td>NaN</td>\n      <td>NaN</td>\n      <td>NaN</td>\n      <td>NaN</td>\n      <td>48.626877</td>\n      <td>NaN</td>\n      <td>NaN</td>\n      <td>2.432283</td>\n      <td>...</td>\n      <td>NaN</td>\n      <td>10800.0</td>\n      <td>NaN</td>\n      <td>96602936.0</td>\n      <td>68296318.0</td>\n      <td>12910.0</td>\n      <td>NaN</td>\n      <td>NaN</td>\n      <td>22000.0</td>\n      <td>NaN</td>\n    </tr>\n    <tr>\n      <th>1996-01-04</th>\n      <td>NaN</td>\n      <td>NaN</td>\n      <td>NaN</td>\n      <td>NaN</td>\n      <td>NaN</td>\n      <td>NaN</td>\n      <td>46.879208</td>\n      <td>NaN</td>\n      <td>NaN</td>\n      <td>2.415987</td>\n      <td>...</td>\n      <td>NaN</td>\n      <td>41400.0</td>\n      <td>NaN</td>\n      <td>100099436.0</td>\n      <td>86073880.0</td>\n      <td>64550.0</td>\n      <td>NaN</td>\n      <td>NaN</td>\n      <td>46000.0</td>\n      <td>NaN</td>\n    </tr>\n    <tr>\n      <th>1996-01-05</th>\n      <td>NaN</td>\n      <td>NaN</td>\n      <td>NaN</td>\n      <td>NaN</td>\n      <td>NaN</td>\n      <td>NaN</td>\n      <td>45.769058</td>\n      <td>NaN</td>\n      <td>NaN</td>\n      <td>2.411913</td>\n      <td>...</td>\n      <td>NaN</td>\n      <td>46800.0</td>\n      <td>NaN</td>\n      <td>76935930.0</td>\n      <td>76613039.0</td>\n      <td>12910.0</td>\n      <td>NaN</td>\n      <td>NaN</td>\n      <td>20000.0</td>\n      <td>NaN</td>\n    </tr>\n    <tr>\n      <th>...</th>\n      <td>...</td>\n      <td>...</td>\n      <td>...</td>\n      <td>...</td>\n      <td>...</td>\n      <td>...</td>\n      <td>...</td>\n      <td>...</td>\n      <td>...</td>\n      <td>...</td>\n      <td>...</td>\n      <td>...</td>\n      <td>...</td>\n      <td>...</td>\n      <td>...</td>\n      <td>...</td>\n      <td>...</td>\n      <td>...</td>\n      <td>...</td>\n      <td>...</td>\n      <td>...</td>\n    </tr>\n    <tr>\n      <th>2021-03-01</th>\n      <td>2362.300049</td>\n      <td>728.549988</td>\n      <td>3814.050049</td>\n      <td>9774.049805</td>\n      <td>5266.799805</td>\n      <td>532.200012</td>\n      <td>4453.399902</td>\n      <td>930.349976</td>\n      <td>2606.000000</td>\n      <td>1558.900024</td>\n      <td>...</td>\n      <td>27205189.0</td>\n      <td>41672980.0</td>\n      <td>17686096.0</td>\n      <td>8159670.0</td>\n      <td>29677890.0</td>\n      <td>5274758.0</td>\n      <td>3265871.0</td>\n      <td>3429569.0</td>\n      <td>1962042.0</td>\n      <td>609302.0</td>\n    </tr>\n    <tr>\n      <th>2021-03-02</th>\n      <td>2390.399902</td>\n      <td>731.250000</td>\n      <td>3944.050049</td>\n      <td>9877.000000</td>\n      <td>5316.299805</td>\n      <td>541.200012</td>\n      <td>4404.700195</td>\n      <td>953.750000</td>\n      <td>2564.000000</td>\n      <td>1568.199951</td>\n      <td>...</td>\n      <td>53649872.0</td>\n      <td>36303917.0</td>\n      <td>10250883.0</td>\n      <td>7915073.0</td>\n      <td>30534337.0</td>\n      <td>4776776.0</td>\n      <td>3306469.0</td>\n      <td>3703190.0</td>\n      <td>1293306.0</td>\n      <td>438046.0</td>\n    </tr>\n    <tr>\n      <th>2021-03-03</th>\n      <td>2402.100098</td>\n      <td>753.950012</td>\n      <td>3901.100098</td>\n      <td>10395.599609</td>\n      <td>5542.899902</td>\n      <td>546.299988</td>\n      <td>4502.549805</td>\n      <td>965.250000</td>\n      <td>2654.899902</td>\n      <td>1586.849976</td>\n      <td>...</td>\n      <td>31702057.0</td>\n      <td>19434630.0</td>\n      <td>10884683.0</td>\n      <td>14733134.0</td>\n      <td>46268223.0</td>\n      <td>6626297.0</td>\n      <td>3509857.0</td>\n      <td>3203532.0</td>\n      <td>1227772.0</td>\n      <td>467421.0</td>\n    </tr>\n    <tr>\n      <th>2021-03-04</th>\n      <td>2417.100098</td>\n      <td>736.799988</td>\n      <td>3879.050049</td>\n      <td>10129.950195</td>\n      <td>5485.899902</td>\n      <td>539.599976</td>\n      <td>4575.049805</td>\n      <td>958.000000</td>\n      <td>2582.949951</td>\n      <td>1552.050049</td>\n      <td>...</td>\n      <td>28057179.0</td>\n      <td>38272786.0</td>\n      <td>12861986.0</td>\n      <td>9892597.0</td>\n      <td>43603653.0</td>\n      <td>11530735.0</td>\n      <td>3916760.0</td>\n      <td>5134954.0</td>\n      <td>1822476.0</td>\n      <td>1303144.0</td>\n    </tr>\n    <tr>\n      <th>2021-03-05</th>\n      <td>2387.100098</td>\n      <td>730.750000</td>\n      <td>3852.850098</td>\n      <td>9958.099609</td>\n      <td>5444.899902</td>\n      <td>532.799988</td>\n      <td>4492.500000</td>\n      <td>941.500000</td>\n      <td>2543.899902</td>\n      <td>1530.000000</td>\n      <td>...</td>\n      <td>24778407.0</td>\n      <td>57756103.0</td>\n      <td>9755263.0</td>\n      <td>11773630.0</td>\n      <td>72179228.0</td>\n      <td>6127488.0</td>\n      <td>3203686.0</td>\n      <td>2618145.0</td>\n      <td>1954113.0</td>\n      <td>1828811.0</td>\n    </tr>\n  </tbody>\n</table>\n<p>6335 rows × 180 columns</p>\n</div>"
     },
     "metadata": {},
     "execution_count": 22
    }
   ],
   "source": [
    "df2"
   ]
  },
  {
   "cell_type": "code",
   "execution_count": 23,
   "metadata": {},
   "outputs": [],
   "source": [
    "gfg_csv_data = df.to_csv('stockdatanifty.csv', index = True) \n"
   ]
  },
  {
   "cell_type": "code",
   "execution_count": null,
   "metadata": {},
   "outputs": [],
   "source": []
  }
 ],
 "metadata": {
  "kernelspec": {
   "name": "python3",
   "display_name": "Python 3.8.0 32-bit",
   "metadata": {
    "interpreter": {
     "hash": "b8272897a8284498a4309cf705c665bcb40ab606922e8429c67ff5c0702cf904"
    }
   }
  },
  "language_info": {
   "codemirror_mode": {
    "name": "ipython",
    "version": 3
   },
   "file_extension": ".py",
   "mimetype": "text/x-python",
   "name": "python",
   "nbconvert_exporter": "python",
   "pygments_lexer": "ipython3",
   "version": "3.8.0-final"
  }
 },
 "nbformat": 4,
 "nbformat_minor": 4
}