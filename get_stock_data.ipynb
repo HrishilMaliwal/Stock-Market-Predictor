{
 "cells": [
  {
   "cell_type": "code",
   "execution_count": 67,
   "metadata": {},
   "outputs": [],
   "source": [
    "import yfinance as yf\n",
    "\n",
    "import pandas as pd"
   ]
  },
  {
   "cell_type": "code",
   "execution_count": 68,
   "metadata": {},
   "outputs": [],
   "source": [
    "df=pd.read_html('https://finance.yahoo.com/quote/%5EBSESN/components?p=%5EBSESN')[0]"
   ]
  },
  {
   "cell_type": "code",
   "execution_count": 69,
   "metadata": {},
   "outputs": [],
   "source": [
    "tickers=df.Symbol.to_list()"
   ]
  },
  {
   "cell_type": "code",
   "execution_count": 70,
   "metadata": {},
   "outputs": [
    {
     "output_type": "execute_result",
     "data": {
      "text/plain": [
       "['500010.BO',\n",
       " '532174.BO',\n",
       " '500790.BO',\n",
       " '532281.BO',\n",
       " '500180.BO',\n",
       " '532978.BO',\n",
       " '500209.BO',\n",
       " '532538.BO',\n",
       " '532977.BO',\n",
       " '524715.BO',\n",
       " '532898.BO',\n",
       " '532755.BO',\n",
       " '532215.BO',\n",
       " '500325.BO',\n",
       " '500875.BO',\n",
       " '532555.BO',\n",
       " '500820.BO',\n",
       " '532500.BO',\n",
       " '500247.BO',\n",
       " '500312.BO',\n",
       " '532454.BO',\n",
       " '500510.BO',\n",
       " '500114.BO',\n",
       " '500520.BO',\n",
       " '500124.BO',\n",
       " '500696.BO',\n",
       " '532540.BO',\n",
       " '500112.BO',\n",
       " '500034.BO',\n",
       " '532187.BO']"
      ]
     },
     "metadata": {},
     "execution_count": 70
    }
   ],
   "source": [
    "tickers\n"
   ]
  },
  {
   "cell_type": "code",
   "execution_count": 71,
   "metadata": {},
   "outputs": [],
   "source": [
    "from bsedata.bse import BSE\n",
    "b=BSE()"
   ]
  },
  {
   "cell_type": "code",
   "execution_count": 72,
   "metadata": {},
   "outputs": [
    {
     "output_type": "execute_result",
     "data": {
      "text/plain": [
       "{'companyName': 'INDUSIND BANK LTD.',\n",
       " 'currentValue': '1098.90',\n",
       " 'change': '25.95',\n",
       " 'pChange': '2.42',\n",
       " 'updatedOn': '03 Mar 21 | 03:10 PM',\n",
       " 'priceBand': '',\n",
       " 'securityID': 'INDUSINDBK',\n",
       " 'scripCode': '532187',\n",
       " 'group': 'A  / S&P BSE SENSEX',\n",
       " 'faceValue': '10.00',\n",
       " 'industry': 'Banks',\n",
       " 'previousClose': '1072.95',\n",
       " 'previousOpen': '1083.00',\n",
       " 'dayHigh': '1099.95',\n",
       " 'dayLow': '1077.50',\n",
       " '52weekHigh': '1119.20',\n",
       " '52weekLow': '235.60',\n",
       " 'weightedAvgPrice': '1088.46',\n",
       " 'totalTradedValue': '16.48 Cr.',\n",
       " 'totalTradedQuantity': '1.51 Lakh',\n",
       " '2WeekAvgQuantity': '6.27 Lakh',\n",
       " 'marketCapFull': '83,228.95 Cr.',\n",
       " 'marketCapFreeFloat': '61,589.42 Cr.',\n",
       " 'upperPriceBand': '',\n",
       " 'lowerPriceBand': '',\n",
       " 'buy': {'1': {'quantity': '239', 'price': '1099.05'},\n",
       "  '2': {'quantity': '36', 'price': '1099.00'},\n",
       "  '3': {'quantity': '181', 'price': '1098.90'},\n",
       "  '4': {'quantity': '16', 'price': '1098.85'},\n",
       "  '5': {'quantity': '76', 'price': '1098.80'}},\n",
       " 'sell': {'1': {'price': '1099.80', 'quantity': '254'},\n",
       "  '2': {'price': '1099.85', 'quantity': '49'},\n",
       "  '3': {'price': '1099.90', 'quantity': '51'},\n",
       "  '4': {'price': '1100.00', 'quantity': '1966'},\n",
       "  '5': {'price': '1100.05', 'quantity': '65'}}}"
      ]
     },
     "metadata": {},
     "execution_count": 72
    }
   ],
   "source": [
    "b.getQuote('532187')"
   ]
  },
  {
   "cell_type": "code",
   "execution_count": 73,
   "metadata": {},
   "outputs": [],
   "source": [
    "codes=[i[:-3] for i in tickers]\n",
    "india = []\n",
    "for i in codes:\n",
    "    india.append(b.getQuote(i)['securityID'])"
   ]
  },
  {
   "cell_type": "code",
   "execution_count": 74,
   "metadata": {},
   "outputs": [
    {
     "output_type": "execute_result",
     "data": {
      "text/plain": [
       "['HDFC',\n",
       " 'ICICIBANK',\n",
       " 'NESTLEIND',\n",
       " 'HCLTECH',\n",
       " 'HDFCBANK',\n",
       " 'BAJAJFINSV',\n",
       " 'INFY',\n",
       " 'ULTRACEMCO',\n",
       " 'BAJAJ-AUTO',\n",
       " 'SUNPHARMA',\n",
       " 'POWERGRID',\n",
       " 'TECHM',\n",
       " 'AXISBANK',\n",
       " 'RELIANCE',\n",
       " 'ITC',\n",
       " 'NTPC',\n",
       " 'ASIANPAINT',\n",
       " 'MARUTI',\n",
       " 'KOTAKBANK',\n",
       " 'ONGC',\n",
       " 'BHARTIARTL',\n",
       " 'LT',\n",
       " 'TITAN',\n",
       " 'M&M',\n",
       " 'DRREDDY',\n",
       " 'HINDUNILVR',\n",
       " 'TCS',\n",
       " 'SBIN',\n",
       " 'BAJFINANCE',\n",
       " 'INDUSINDBK']"
      ]
     },
     "metadata": {},
     "execution_count": 74
    }
   ],
   "source": [
    "india\n"
   ]
  },
  {
   "cell_type": "code",
   "execution_count": 75,
   "metadata": {},
   "outputs": [],
   "source": [
    "data =[i+'.NS' for i in india]"
   ]
  },
  {
   "cell_type": "code",
   "execution_count": 76,
   "metadata": {},
   "outputs": [
    {
     "output_type": "execute_result",
     "data": {
      "text/plain": [
       "['HDFC.NS',\n",
       " 'ICICIBANK.NS',\n",
       " 'NESTLEIND.NS',\n",
       " 'HCLTECH.NS',\n",
       " 'HDFCBANK.NS',\n",
       " 'BAJAJFINSV.NS',\n",
       " 'INFY.NS',\n",
       " 'ULTRACEMCO.NS',\n",
       " 'BAJAJ-AUTO.NS',\n",
       " 'SUNPHARMA.NS',\n",
       " 'POWERGRID.NS',\n",
       " 'TECHM.NS',\n",
       " 'AXISBANK.NS',\n",
       " 'RELIANCE.NS',\n",
       " 'ITC.NS',\n",
       " 'NTPC.NS',\n",
       " 'ASIANPAINT.NS',\n",
       " 'MARUTI.NS',\n",
       " 'KOTAKBANK.NS',\n",
       " 'ONGC.NS',\n",
       " 'BHARTIARTL.NS',\n",
       " 'LT.NS',\n",
       " 'TITAN.NS',\n",
       " 'M&M.NS',\n",
       " 'DRREDDY.NS',\n",
       " 'HINDUNILVR.NS',\n",
       " 'TCS.NS',\n",
       " 'SBIN.NS',\n",
       " 'BAJFINANCE.NS',\n",
       " 'INDUSINDBK.NS']"
      ]
     },
     "metadata": {},
     "execution_count": 76
    }
   ],
   "source": [
    "data"
   ]
  },
  {
   "cell_type": "code",
   "execution_count": 77,
   "metadata": {},
   "outputs": [
    {
     "output_type": "stream",
     "name": "stdout",
     "text": [
      "[*********************100%***********************]  30 of 30 completed\n"
     ]
    }
   ],
   "source": [
    "df=yf.download(data)"
   ]
  },
  {
   "cell_type": "code",
   "execution_count": 78,
   "metadata": {},
   "outputs": [],
   "source": [
    "returns=df['Adj Close'].pct_change()"
   ]
  },
  {
   "cell_type": "code",
   "execution_count": 79,
   "metadata": {},
   "outputs": [],
   "source": [
    "returns.dropna(inplace=True)"
   ]
  },
  {
   "cell_type": "code",
   "execution_count": 86,
   "metadata": {},
   "outputs": [
    {
     "output_type": "stream",
     "name": "stdout",
     "text": [
      "           Symbol                             Company Name  Last Price  \\\n0          ITC.NS                              ITC Limited      209.95   \n1         NTPC.NS                             NTPC Limited      112.50   \n2     SHREECEM.NS                     Shree Cement Limited    27674.45   \n3        CIPLA.NS                            Cipla Limited      811.20   \n4         ONGC.NS  Oil and Natural Gas Corporation Limited      113.70   \n5        TITAN.NS                    Titan Company Limited     1474.85   \n6           LT.NS                  Larsen & Toubro Limited     1497.20   \n7    NESTLEIND.NS                     Nestlé India Limited    16706.00   \n8   BHARTIARTL.NS                    Bharti Airtel Limited      545.75   \n9    BRITANNIA.NS             Britannia Industries Limited     3480.15   \n10       TECHM.NS                    Tech Mahindra Limited      976.20   \n11   COALINDIA.NS                       Coal India Limited      154.95   \n12    HDFCLIFE.NS      HDFC Life Insurance Company Limited      728.75   \n13  BAJAJ-AUTO.NS                       Bajaj Auto Limited     3900.05   \n14       WIPRO.NS                            Wipro Limited      435.25   \n15  ULTRACEMCO.NS                 UltraTech Cement Limited     6498.00   \n16      MARUTI.NS              Maruti Suzuki India Limited     7120.40   \n17        GAIL.NS                     GAIL (India) Limited      146.90   \n18      GRASIM.NS                Grasim Industries Limited     1314.35   \n19  HEROMOTOCO.NS                    Hero MotoCorp Limited     3420.65   \n20         TCS.NS        Tata Consultancy Services Limited     3062.00   \n21  INDUSINDBK.NS                    IndusInd Bank Limited     1099.55   \n22    HINDALCO.NS              Hindalco Industries Limited      359.00   \n23  BAJFINANCE.NS                    Bajaj Finance Limited     5530.60   \n24          MM.NS                                    MM.NS         NaN   \n25   KOTAKBANK.NS              Kotak Mahindra Bank Limited     1900.75   \n26   ICICIBANK.NS                       ICICI Bank Limited      631.95   \n27    RELIANCE.NS              Reliance Industries Limited     2198.60   \n28  BAJAJFINSV.NS                       Bajaj Finserv Ltd.    10383.10   \n29   TATASTEEL.NS                       Tata Steel Limited      777.80   \n\n    Change % Change      Volume  \n0     0.05   +0.02%  17930895.0  \n1    -0.05   -0.04%  28216263.0  \n2    15.70   +0.06%     33643.0  \n3    -0.60   -0.07%   2857773.0  \n4     0.20   +0.18%  17073104.0  \n5     3.70   +0.25%   1125118.0  \n6    11.55   +0.78%   1955840.0  \n7   129.85   +0.78%     83456.0  \n8     4.55   +0.84%  22400505.0  \n9    32.20   +0.93%    350532.0  \n10    9.10   +0.94%   2973087.0  \n11    1.55   +1.01%  15969542.0  \n12    7.95   +1.10%   1524016.0  \n13  -44.00   -1.12%    546279.0  \n14    4.85   +1.13%   7852643.0  \n15   74.90   +1.17%    420155.0  \n16  -93.70   -1.30%    701682.0  \n17    2.10   +1.45%  14994614.0  \n18   19.60   +1.51%   2098321.0  \n19  -55.75   -1.60%    877714.0  \n20   55.65   +1.85%   3174816.0  \n21   26.20   +2.44%   5022180.0  \n22   13.75   +3.98%  18370693.0  \n23  214.30   +4.03%   2006626.0  \n24     NaN      NaN         NaN  \n25   56.10   +3.04%   2633640.0  \n26   21.45   +3.51%  18566289.0  \n27   92.60   +4.40%  11469779.0  \n28  506.10   +5.12%    414491.0  \n29   42.30   +5.75%  26275453.0  \n"
     ]
    }
   ],
   "source": [
    "print(df)"
   ]
  },
  {
   "cell_type": "code",
   "execution_count": 80,
   "metadata": {},
   "outputs": [],
   "source": [
    "gfg_csv_data = df.to_csv('stockdata.csv', index = True) \n"
   ]
  },
  {
   "cell_type": "code",
   "execution_count": 88,
   "metadata": {},
   "outputs": [],
   "source": [
    "df2=pd.read_html('https://finance.yahoo.com/quote/%5ENSEI/components?p=%5ENSEI')[0]\n",
    "tickers2=df2.Symbol.to_list()"
   ]
  },
  {
   "cell_type": "code",
   "execution_count": 91,
   "metadata": {},
   "outputs": [],
   "source": [
    "codes2=[i[:-3] for i in tickers]\n",
    "india2 = []\n",
    "for i in codes2:\n",
    "    india2.append(b.getQuote(i)['securityID'])"
   ]
  },
  {
   "cell_type": "code",
   "execution_count": 92,
   "metadata": {},
   "outputs": [
    {
     "output_type": "execute_result",
     "data": {
      "text/plain": [
       "['HDFC',\n",
       " 'ICICIBANK',\n",
       " 'NESTLEIND',\n",
       " 'HCLTECH',\n",
       " 'HDFCBANK',\n",
       " 'BAJAJFINSV',\n",
       " 'INFY',\n",
       " 'ULTRACEMCO',\n",
       " 'BAJAJ-AUTO',\n",
       " 'SUNPHARMA',\n",
       " 'POWERGRID',\n",
       " 'TECHM',\n",
       " 'AXISBANK',\n",
       " 'RELIANCE',\n",
       " 'ITC',\n",
       " 'NTPC',\n",
       " 'ASIANPAINT',\n",
       " 'MARUTI',\n",
       " 'KOTAKBANK',\n",
       " 'ONGC',\n",
       " 'BHARTIARTL',\n",
       " 'LT',\n",
       " 'TITAN',\n",
       " 'M&M',\n",
       " 'DRREDDY',\n",
       " 'HINDUNILVR',\n",
       " 'TCS',\n",
       " 'SBIN',\n",
       " 'BAJFINANCE',\n",
       " 'INDUSINDBK']"
      ]
     },
     "metadata": {},
     "execution_count": 92
    }
   ],
   "source": [
    "india2"
   ]
  },
  {
   "cell_type": "code",
   "execution_count": 93,
   "metadata": {},
   "outputs": [],
   "source": [
    "data =[i+'.NS' for i in india2]"
   ]
  },
  {
   "cell_type": "code",
   "execution_count": 89,
   "metadata": {},
   "outputs": [
    {
     "output_type": "execute_result",
     "data": {
      "text/plain": [
       "['500010.BO',\n",
       " '532174.BO',\n",
       " '500790.BO',\n",
       " '532281.BO',\n",
       " '500180.BO',\n",
       " '532978.BO',\n",
       " '500209.BO',\n",
       " '532538.BO',\n",
       " '532977.BO',\n",
       " '524715.BO',\n",
       " '532898.BO',\n",
       " '532755.BO',\n",
       " '532215.BO',\n",
       " '500325.BO',\n",
       " '500875.BO',\n",
       " '532555.BO',\n",
       " '500820.BO',\n",
       " '532500.BO',\n",
       " '500247.BO',\n",
       " '500312.BO',\n",
       " '532454.BO',\n",
       " '500510.BO',\n",
       " '500114.BO',\n",
       " '500520.BO',\n",
       " '500124.BO',\n",
       " '500696.BO',\n",
       " '532540.BO',\n",
       " '500112.BO',\n",
       " '500034.BO',\n",
       " '532187.BO']"
      ]
     },
     "metadata": {},
     "execution_count": 89
    }
   ],
   "source": [
    "tickers"
   ]
  },
  {
   "cell_type": "code",
   "execution_count": 95,
   "metadata": {},
   "outputs": [
    {
     "output_type": "stream",
     "name": "stdout",
     "text": [
      "[*********************100%***********************]  30 of 30 completed\n"
     ]
    }
   ],
   "source": [
    "df2=yf.download(data)"
   ]
  },
  {
   "cell_type": "code",
   "execution_count": 96,
   "metadata": {
    "scrolled": true
   },
   "outputs": [
    {
     "output_type": "execute_result",
     "data": {
      "text/plain": [
       "               Adj Close                                          \\\n",
       "           ASIANPAINT.NS AXISBANK.NS BAJAJ-AUTO.NS BAJAJFINSV.NS   \n",
       "Date                                                               \n",
       "1996-01-01           NaN         NaN           NaN           NaN   \n",
       "1996-01-02           NaN         NaN           NaN           NaN   \n",
       "1996-01-03           NaN         NaN           NaN           NaN   \n",
       "1996-01-04           NaN         NaN           NaN           NaN   \n",
       "1996-01-05           NaN         NaN           NaN           NaN   \n",
       "...                  ...         ...           ...           ...   \n",
       "2021-02-25   2373.750000  770.650024   3944.800049  10264.450195   \n",
       "2021-02-26   2277.199951  724.799988   3798.699951   9648.599609   \n",
       "2021-03-01   2362.300049  728.549988   3814.050049   9774.049805   \n",
       "2021-03-02   2390.399902  731.250000   3944.050049   9877.000000   \n",
       "2021-03-03   2401.149902  753.099976   3900.649902  10401.599609   \n",
       "\n",
       "                                                                              \\\n",
       "           BAJFINANCE.NS BHARTIARTL.NS   DRREDDY.NS  HCLTECH.NS      HDFC.NS   \n",
       "Date                                                                           \n",
       "1996-01-01           NaN           NaN    49.022575         NaN          NaN   \n",
       "1996-01-02           NaN           NaN    48.604893         NaN          NaN   \n",
       "1996-01-03           NaN           NaN    48.626877         NaN          NaN   \n",
       "1996-01-04           NaN           NaN    46.879208         NaN          NaN   \n",
       "1996-01-05           NaN           NaN    45.769058         NaN          NaN   \n",
       "...                  ...           ...          ...         ...          ...   \n",
       "2021-02-25   5529.950195    579.150024  4480.149902  929.250000  2684.699951   \n",
       "2021-02-26   5264.899902    556.299988  4426.549805  909.450012  2539.399902   \n",
       "2021-03-01   5266.799805    532.200012  4453.399902  930.349976  2606.000000   \n",
       "2021-03-02   5316.299805    541.200012  4404.700195  953.750000  2564.000000   \n",
       "2021-03-03   5547.549805    546.549988  4506.850098  964.650024  2661.699951   \n",
       "\n",
       "                         ...      Volume                           \\\n",
       "            HDFCBANK.NS  ...     NTPC.NS     ONGC.NS POWERGRID.NS   \n",
       "Date                     ...                                        \n",
       "1996-01-01     2.428210  ...         NaN     10800.0          NaN   \n",
       "1996-01-02     2.424136  ...         NaN     27000.0          NaN   \n",
       "1996-01-03     2.432283  ...         NaN     10800.0          NaN   \n",
       "1996-01-04     2.415987  ...         NaN     41400.0          NaN   \n",
       "1996-01-05     2.411913  ...         NaN     46800.0          NaN   \n",
       "...                 ...  ...         ...         ...          ...   \n",
       "2021-02-25  1606.400024  ...  68361756.0  62038881.0   17266549.0   \n",
       "2021-02-26  1534.400024  ...  67331805.0  55154985.0   21414774.0   \n",
       "2021-03-01  1558.900024  ...  27205189.0  41672980.0   17686096.0   \n",
       "2021-03-02  1568.199951  ...  53649872.0  36303917.0   10250883.0   \n",
       "2021-03-03  1586.000000  ...  31133192.0  19027723.0   10687318.0   \n",
       "\n",
       "                                                                        \\\n",
       "            RELIANCE.NS     SBIN.NS SUNPHARMA.NS     TCS.NS   TECHM.NS   \n",
       "Date                                                                     \n",
       "1996-01-01   48051995.0  43733533.0      38730.0        NaN        NaN   \n",
       "1996-01-02   77875009.0  56167280.0      77460.0        NaN        NaN   \n",
       "1996-01-03   96602936.0  68296318.0      12910.0        NaN        NaN   \n",
       "1996-01-04  100099436.0  86073880.0      64550.0        NaN        NaN   \n",
       "1996-01-05   76935930.0  76613039.0      12910.0        NaN        NaN   \n",
       "...                 ...         ...          ...        ...        ...   \n",
       "2021-02-25   16085897.0  46988836.0    6261754.0  4224073.0  3682791.0   \n",
       "2021-02-26   17297575.0  64450414.0   15404415.0  5553153.0  5254937.0   \n",
       "2021-03-01    8159670.0  29677890.0    5274758.0  3265871.0  3429569.0   \n",
       "2021-03-02    7915073.0  30534337.0    4776776.0  3306469.0  3703190.0   \n",
       "2021-03-03   14162153.0  45465189.0    6399673.0  3445857.0  3158582.0   \n",
       "\n",
       "                                     \n",
       "             TITAN.NS ULTRACEMCO.NS  \n",
       "Date                                 \n",
       "1996-01-01     4000.0           NaN  \n",
       "1996-01-02    24000.0           NaN  \n",
       "1996-01-03    22000.0           NaN  \n",
       "1996-01-04    46000.0           NaN  \n",
       "1996-01-05    20000.0           NaN  \n",
       "...               ...           ...  \n",
       "2021-02-25  1967386.0      803072.0  \n",
       "2021-02-26  2715597.0     1307673.0  \n",
       "2021-03-01  1962042.0      609302.0  \n",
       "2021-03-02  1293306.0      438046.0  \n",
       "2021-03-03  1209005.0      459838.0  \n",
       "\n",
       "[6333 rows x 180 columns]"
      ],
      "text/html": "<div>\n<style scoped>\n    .dataframe tbody tr th:only-of-type {\n        vertical-align: middle;\n    }\n\n    .dataframe tbody tr th {\n        vertical-align: top;\n    }\n\n    .dataframe thead tr th {\n        text-align: left;\n    }\n\n    .dataframe thead tr:last-of-type th {\n        text-align: right;\n    }\n</style>\n<table border=\"1\" class=\"dataframe\">\n  <thead>\n    <tr>\n      <th></th>\n      <th colspan=\"10\" halign=\"left\">Adj Close</th>\n      <th>...</th>\n      <th colspan=\"10\" halign=\"left\">Volume</th>\n    </tr>\n    <tr>\n      <th></th>\n      <th>ASIANPAINT.NS</th>\n      <th>AXISBANK.NS</th>\n      <th>BAJAJ-AUTO.NS</th>\n      <th>BAJAJFINSV.NS</th>\n      <th>BAJFINANCE.NS</th>\n      <th>BHARTIARTL.NS</th>\n      <th>DRREDDY.NS</th>\n      <th>HCLTECH.NS</th>\n      <th>HDFC.NS</th>\n      <th>HDFCBANK.NS</th>\n      <th>...</th>\n      <th>NTPC.NS</th>\n      <th>ONGC.NS</th>\n      <th>POWERGRID.NS</th>\n      <th>RELIANCE.NS</th>\n      <th>SBIN.NS</th>\n      <th>SUNPHARMA.NS</th>\n      <th>TCS.NS</th>\n      <th>TECHM.NS</th>\n      <th>TITAN.NS</th>\n      <th>ULTRACEMCO.NS</th>\n    </tr>\n    <tr>\n      <th>Date</th>\n      <th></th>\n      <th></th>\n      <th></th>\n      <th></th>\n      <th></th>\n      <th></th>\n      <th></th>\n      <th></th>\n      <th></th>\n      <th></th>\n      <th></th>\n      <th></th>\n      <th></th>\n      <th></th>\n      <th></th>\n      <th></th>\n      <th></th>\n      <th></th>\n      <th></th>\n      <th></th>\n      <th></th>\n    </tr>\n  </thead>\n  <tbody>\n    <tr>\n      <th>1996-01-01</th>\n      <td>NaN</td>\n      <td>NaN</td>\n      <td>NaN</td>\n      <td>NaN</td>\n      <td>NaN</td>\n      <td>NaN</td>\n      <td>49.022575</td>\n      <td>NaN</td>\n      <td>NaN</td>\n      <td>2.428210</td>\n      <td>...</td>\n      <td>NaN</td>\n      <td>10800.0</td>\n      <td>NaN</td>\n      <td>48051995.0</td>\n      <td>43733533.0</td>\n      <td>38730.0</td>\n      <td>NaN</td>\n      <td>NaN</td>\n      <td>4000.0</td>\n      <td>NaN</td>\n    </tr>\n    <tr>\n      <th>1996-01-02</th>\n      <td>NaN</td>\n      <td>NaN</td>\n      <td>NaN</td>\n      <td>NaN</td>\n      <td>NaN</td>\n      <td>NaN</td>\n      <td>48.604893</td>\n      <td>NaN</td>\n      <td>NaN</td>\n      <td>2.424136</td>\n      <td>...</td>\n      <td>NaN</td>\n      <td>27000.0</td>\n      <td>NaN</td>\n      <td>77875009.0</td>\n      <td>56167280.0</td>\n      <td>77460.0</td>\n      <td>NaN</td>\n      <td>NaN</td>\n      <td>24000.0</td>\n      <td>NaN</td>\n    </tr>\n    <tr>\n      <th>1996-01-03</th>\n      <td>NaN</td>\n      <td>NaN</td>\n      <td>NaN</td>\n      <td>NaN</td>\n      <td>NaN</td>\n      <td>NaN</td>\n      <td>48.626877</td>\n      <td>NaN</td>\n      <td>NaN</td>\n      <td>2.432283</td>\n      <td>...</td>\n      <td>NaN</td>\n      <td>10800.0</td>\n      <td>NaN</td>\n      <td>96602936.0</td>\n      <td>68296318.0</td>\n      <td>12910.0</td>\n      <td>NaN</td>\n      <td>NaN</td>\n      <td>22000.0</td>\n      <td>NaN</td>\n    </tr>\n    <tr>\n      <th>1996-01-04</th>\n      <td>NaN</td>\n      <td>NaN</td>\n      <td>NaN</td>\n      <td>NaN</td>\n      <td>NaN</td>\n      <td>NaN</td>\n      <td>46.879208</td>\n      <td>NaN</td>\n      <td>NaN</td>\n      <td>2.415987</td>\n      <td>...</td>\n      <td>NaN</td>\n      <td>41400.0</td>\n      <td>NaN</td>\n      <td>100099436.0</td>\n      <td>86073880.0</td>\n      <td>64550.0</td>\n      <td>NaN</td>\n      <td>NaN</td>\n      <td>46000.0</td>\n      <td>NaN</td>\n    </tr>\n    <tr>\n      <th>1996-01-05</th>\n      <td>NaN</td>\n      <td>NaN</td>\n      <td>NaN</td>\n      <td>NaN</td>\n      <td>NaN</td>\n      <td>NaN</td>\n      <td>45.769058</td>\n      <td>NaN</td>\n      <td>NaN</td>\n      <td>2.411913</td>\n      <td>...</td>\n      <td>NaN</td>\n      <td>46800.0</td>\n      <td>NaN</td>\n      <td>76935930.0</td>\n      <td>76613039.0</td>\n      <td>12910.0</td>\n      <td>NaN</td>\n      <td>NaN</td>\n      <td>20000.0</td>\n      <td>NaN</td>\n    </tr>\n    <tr>\n      <th>...</th>\n      <td>...</td>\n      <td>...</td>\n      <td>...</td>\n      <td>...</td>\n      <td>...</td>\n      <td>...</td>\n      <td>...</td>\n      <td>...</td>\n      <td>...</td>\n      <td>...</td>\n      <td>...</td>\n      <td>...</td>\n      <td>...</td>\n      <td>...</td>\n      <td>...</td>\n      <td>...</td>\n      <td>...</td>\n      <td>...</td>\n      <td>...</td>\n      <td>...</td>\n      <td>...</td>\n    </tr>\n    <tr>\n      <th>2021-02-25</th>\n      <td>2373.750000</td>\n      <td>770.650024</td>\n      <td>3944.800049</td>\n      <td>10264.450195</td>\n      <td>5529.950195</td>\n      <td>579.150024</td>\n      <td>4480.149902</td>\n      <td>929.250000</td>\n      <td>2684.699951</td>\n      <td>1606.400024</td>\n      <td>...</td>\n      <td>68361756.0</td>\n      <td>62038881.0</td>\n      <td>17266549.0</td>\n      <td>16085897.0</td>\n      <td>46988836.0</td>\n      <td>6261754.0</td>\n      <td>4224073.0</td>\n      <td>3682791.0</td>\n      <td>1967386.0</td>\n      <td>803072.0</td>\n    </tr>\n    <tr>\n      <th>2021-02-26</th>\n      <td>2277.199951</td>\n      <td>724.799988</td>\n      <td>3798.699951</td>\n      <td>9648.599609</td>\n      <td>5264.899902</td>\n      <td>556.299988</td>\n      <td>4426.549805</td>\n      <td>909.450012</td>\n      <td>2539.399902</td>\n      <td>1534.400024</td>\n      <td>...</td>\n      <td>67331805.0</td>\n      <td>55154985.0</td>\n      <td>21414774.0</td>\n      <td>17297575.0</td>\n      <td>64450414.0</td>\n      <td>15404415.0</td>\n      <td>5553153.0</td>\n      <td>5254937.0</td>\n      <td>2715597.0</td>\n      <td>1307673.0</td>\n    </tr>\n    <tr>\n      <th>2021-03-01</th>\n      <td>2362.300049</td>\n      <td>728.549988</td>\n      <td>3814.050049</td>\n      <td>9774.049805</td>\n      <td>5266.799805</td>\n      <td>532.200012</td>\n      <td>4453.399902</td>\n      <td>930.349976</td>\n      <td>2606.000000</td>\n      <td>1558.900024</td>\n      <td>...</td>\n      <td>27205189.0</td>\n      <td>41672980.0</td>\n      <td>17686096.0</td>\n      <td>8159670.0</td>\n      <td>29677890.0</td>\n      <td>5274758.0</td>\n      <td>3265871.0</td>\n      <td>3429569.0</td>\n      <td>1962042.0</td>\n      <td>609302.0</td>\n    </tr>\n    <tr>\n      <th>2021-03-02</th>\n      <td>2390.399902</td>\n      <td>731.250000</td>\n      <td>3944.050049</td>\n      <td>9877.000000</td>\n      <td>5316.299805</td>\n      <td>541.200012</td>\n      <td>4404.700195</td>\n      <td>953.750000</td>\n      <td>2564.000000</td>\n      <td>1568.199951</td>\n      <td>...</td>\n      <td>53649872.0</td>\n      <td>36303917.0</td>\n      <td>10250883.0</td>\n      <td>7915073.0</td>\n      <td>30534337.0</td>\n      <td>4776776.0</td>\n      <td>3306469.0</td>\n      <td>3703190.0</td>\n      <td>1293306.0</td>\n      <td>438046.0</td>\n    </tr>\n    <tr>\n      <th>2021-03-03</th>\n      <td>2401.149902</td>\n      <td>753.099976</td>\n      <td>3900.649902</td>\n      <td>10401.599609</td>\n      <td>5547.549805</td>\n      <td>546.549988</td>\n      <td>4506.850098</td>\n      <td>964.650024</td>\n      <td>2661.699951</td>\n      <td>1586.000000</td>\n      <td>...</td>\n      <td>31133192.0</td>\n      <td>19027723.0</td>\n      <td>10687318.0</td>\n      <td>14162153.0</td>\n      <td>45465189.0</td>\n      <td>6399673.0</td>\n      <td>3445857.0</td>\n      <td>3158582.0</td>\n      <td>1209005.0</td>\n      <td>459838.0</td>\n    </tr>\n  </tbody>\n</table>\n<p>6333 rows × 180 columns</p>\n</div>"
     },
     "metadata": {},
     "execution_count": 96
    }
   ],
   "source": [
    "df2"
   ]
  },
  {
   "cell_type": "code",
   "execution_count": 97,
   "metadata": {},
   "outputs": [],
   "source": [
    "gfg_csv_data = df.to_csv('stockdatanifty.csv', index = True) \n"
   ]
  },
  {
   "cell_type": "code",
   "execution_count": null,
   "metadata": {},
   "outputs": [],
   "source": []
  }
 ],
 "metadata": {
  "kernelspec": {
   "name": "python3",
   "display_name": "Python 3.8.3 64-bit",
   "metadata": {
    "interpreter": {
     "hash": "7d03ac12d19a1a9dedd67f1c4759ff7aa3718b08e2fd264f46c9abb55a9cc022"
    }
   }
  },
  "language_info": {
   "codemirror_mode": {
    "name": "ipython",
    "version": 3
   },
   "file_extension": ".py",
   "mimetype": "text/x-python",
   "name": "python",
   "nbconvert_exporter": "python",
   "pygments_lexer": "ipython3",
   "version": "3.8.3-final"
  }
 },
 "nbformat": 4,
 "nbformat_minor": 4
}