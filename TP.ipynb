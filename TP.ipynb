{
 "metadata": {
  "language_info": {
   "codemirror_mode": {
    "name": "ipython",
    "version": 3
   },
   "file_extension": ".py",
   "mimetype": "text/x-python",
   "name": "python",
   "nbconvert_exporter": "python",
   "pygments_lexer": "ipython3",
   "version": "3.8.0-final"
  },
  "orig_nbformat": 2,
  "kernelspec": {
   "name": "python3",
   "display_name": "Python 3.8.0 32-bit",
   "metadata": {
    "interpreter": {
     "hash": "b8272897a8284498a4309cf705c665bcb40ab606922e8429c67ff5c0702cf904"
    }
   }
  }
 },
 "nbformat": 4,
 "nbformat_minor": 2,
 "cells": [
  {
   "cell_type": "code",
   "execution_count": 1,
   "metadata": {},
   "outputs": [],
   "source": [
    "import pandas as pd"
   ]
  },
  {
   "cell_type": "code",
   "execution_count": 2,
   "metadata": {},
   "outputs": [
    {
     "output_type": "stream",
     "name": "stderr",
     "text": [
      "C:\\Users\\hrish\\AppData\\Roaming\\Python\\Python38\\site-packages\\IPython\\core\\interactiveshell.py:3165: DtypeWarning: Columns (1,2,3,4,5,6,7,8,9,10,11,12,13,14,15,16,17,18,19,20,21,22,23,24,25,26,27,28,29,30,31,32,33,34,35,36,37,38,39,40,41,42,43,44,45,46,47,48,49,50,51,52,53,54,55,56,57,58,59,60,61,62,63,64,65,66,67,68,69,70,71,72,73,74,75,76,77,78,79,80,81,82,83,84,85,86,87,88,89,90,91,92,93,94,95,96,97,98,99,100,101,102,103,104,105,106,107,108,109,110,111,112,113,114,115,116,117,118,119,120,121,122,123,124,125,126,127,128,129,130,131,132,133,134,135,136,137,138,139,140,141,142,143,144,145,146,147,148,149,150,151,152,153,154,155,156,157,158,159,160,161,162,163,164,165,166,167,168,169,170,171,172,173,174,175,176,177,178,179,180) have mixed types.Specify dtype option on import or set low_memory=False.\n  has_raised = await self.run_ast_nodes(code_ast.body, cell_name,\n"
     ]
    },
    {
     "output_type": "execute_result",
     "data": {
      "text/plain": [
       "      Unnamed: 0      Adj Close  Adj Close.1    Adj Close.2    Adj Close.3  \\\n",
       "0            NaN  ASIANPAINT.NS  AXISBANK.NS  BAJAJ-AUTO.NS  BAJAJFINSV.NS   \n",
       "1           Date            NaN          NaN            NaN            NaN   \n",
       "2     1996-01-01            NaN          NaN            NaN            NaN   \n",
       "3     1996-01-02            NaN          NaN            NaN            NaN   \n",
       "4     1996-01-03            NaN          NaN            NaN            NaN   \n",
       "...          ...            ...          ...            ...            ...   \n",
       "6330  2021-02-25        2373.75   770.650024    3944.800049   10264.450195   \n",
       "6331  2021-02-26    2277.199951   724.799988    3798.699951    9648.599609   \n",
       "6332  2021-03-01    2362.300049   728.549988    3814.050049    9774.049805   \n",
       "6333  2021-03-02    2390.399902       731.25    3944.050049         9877.0   \n",
       "6334  2021-03-03         2404.5   753.900024    3900.050049        10382.0   \n",
       "\n",
       "        Adj Close.4    Adj Close.5        Adj Close.6 Adj Close.7  \\\n",
       "0     BAJFINANCE.NS  BHARTIARTL.NS         DRREDDY.NS  HCLTECH.NS   \n",
       "1               NaN            NaN                NaN         NaN   \n",
       "2               NaN            NaN  49.02257537841797         NaN   \n",
       "3               NaN            NaN  48.60489273071289         NaN   \n",
       "4               NaN            NaN  48.62687683105469         NaN   \n",
       "...             ...            ...                ...         ...   \n",
       "6330    5529.950195     579.150024        4480.149902      929.25   \n",
       "6331    5264.899902     556.299988        4426.549805  909.450012   \n",
       "6332    5266.799805     532.200012        4453.399902  930.349976   \n",
       "6333    5316.299805     541.200012        4404.700195      953.75   \n",
       "6334    5528.899902     545.599976        4497.850098  965.900024   \n",
       "\n",
       "      Adj Close.8  ...   Volume.20   Volume.21     Volume.22    Volume.23  \\\n",
       "0         HDFC.NS  ...     NTPC.NS     ONGC.NS  POWERGRID.NS  RELIANCE.NS   \n",
       "1             NaN  ...         NaN         NaN           NaN          NaN   \n",
       "2             NaN  ...         NaN     10800.0           NaN   48051995.0   \n",
       "3             NaN  ...         NaN     27000.0           NaN   77875009.0   \n",
       "4             NaN  ...         NaN     10800.0           NaN   96602936.0   \n",
       "...           ...  ...         ...         ...           ...          ...   \n",
       "6330  2684.699951  ...  68361756.0  62038881.0    17266549.0   16085897.0   \n",
       "6331  2539.399902  ...  67331805.0  55154985.0    21414774.0   17297575.0   \n",
       "6332       2606.0  ...  27205189.0  41672980.0    17686096.0    8159670.0   \n",
       "6333       2564.0  ...  53649872.0  36303917.0    10250883.0    7915073.0   \n",
       "6334  2657.699951  ...  28192487.0  17042757.0    10059580.0   11454823.0   \n",
       "\n",
       "       Volume.24     Volume.25  Volume.26  Volume.27  Volume.28      Volume.29  \n",
       "0        SBIN.NS  SUNPHARMA.NS     TCS.NS   TECHM.NS   TITAN.NS  ULTRACEMCO.NS  \n",
       "1            NaN           NaN        NaN        NaN        NaN            NaN  \n",
       "2     43733533.0       38730.0        NaN        NaN     4000.0            NaN  \n",
       "3     56167280.0       77460.0        NaN        NaN    24000.0            NaN  \n",
       "4     68296318.0       12910.0        NaN        NaN    22000.0            NaN  \n",
       "...          ...           ...        ...        ...        ...            ...  \n",
       "6330  46988836.0     6261754.0  4224073.0  3682791.0  1967386.0       803072.0  \n",
       "6331  64450414.0    15404415.0  5553153.0  5254937.0  2715597.0      1307673.0  \n",
       "6332  29677890.0     5274758.0  3265871.0  3429569.0  1962042.0       609302.0  \n",
       "6333  30534337.0     4776776.0  3306469.0  3703190.0  1293306.0       438046.0  \n",
       "6334  42893113.0     5934265.0  3172593.0  2972717.0  1124391.0       420043.0  \n",
       "\n",
       "[6335 rows x 181 columns]"
      ],
      "text/html": "<div>\n<style scoped>\n    .dataframe tbody tr th:only-of-type {\n        vertical-align: middle;\n    }\n\n    .dataframe tbody tr th {\n        vertical-align: top;\n    }\n\n    .dataframe thead th {\n        text-align: right;\n    }\n</style>\n<table border=\"1\" class=\"dataframe\">\n  <thead>\n    <tr style=\"text-align: right;\">\n      <th></th>\n      <th>Unnamed: 0</th>\n      <th>Adj Close</th>\n      <th>Adj Close.1</th>\n      <th>Adj Close.2</th>\n      <th>Adj Close.3</th>\n      <th>Adj Close.4</th>\n      <th>Adj Close.5</th>\n      <th>Adj Close.6</th>\n      <th>Adj Close.7</th>\n      <th>Adj Close.8</th>\n      <th>...</th>\n      <th>Volume.20</th>\n      <th>Volume.21</th>\n      <th>Volume.22</th>\n      <th>Volume.23</th>\n      <th>Volume.24</th>\n      <th>Volume.25</th>\n      <th>Volume.26</th>\n      <th>Volume.27</th>\n      <th>Volume.28</th>\n      <th>Volume.29</th>\n    </tr>\n  </thead>\n  <tbody>\n    <tr>\n      <th>0</th>\n      <td>NaN</td>\n      <td>ASIANPAINT.NS</td>\n      <td>AXISBANK.NS</td>\n      <td>BAJAJ-AUTO.NS</td>\n      <td>BAJAJFINSV.NS</td>\n      <td>BAJFINANCE.NS</td>\n      <td>BHARTIARTL.NS</td>\n      <td>DRREDDY.NS</td>\n      <td>HCLTECH.NS</td>\n      <td>HDFC.NS</td>\n      <td>...</td>\n      <td>NTPC.NS</td>\n      <td>ONGC.NS</td>\n      <td>POWERGRID.NS</td>\n      <td>RELIANCE.NS</td>\n      <td>SBIN.NS</td>\n      <td>SUNPHARMA.NS</td>\n      <td>TCS.NS</td>\n      <td>TECHM.NS</td>\n      <td>TITAN.NS</td>\n      <td>ULTRACEMCO.NS</td>\n    </tr>\n    <tr>\n      <th>1</th>\n      <td>Date</td>\n      <td>NaN</td>\n      <td>NaN</td>\n      <td>NaN</td>\n      <td>NaN</td>\n      <td>NaN</td>\n      <td>NaN</td>\n      <td>NaN</td>\n      <td>NaN</td>\n      <td>NaN</td>\n      <td>...</td>\n      <td>NaN</td>\n      <td>NaN</td>\n      <td>NaN</td>\n      <td>NaN</td>\n      <td>NaN</td>\n      <td>NaN</td>\n      <td>NaN</td>\n      <td>NaN</td>\n      <td>NaN</td>\n      <td>NaN</td>\n    </tr>\n    <tr>\n      <th>2</th>\n      <td>1996-01-01</td>\n      <td>NaN</td>\n      <td>NaN</td>\n      <td>NaN</td>\n      <td>NaN</td>\n      <td>NaN</td>\n      <td>NaN</td>\n      <td>49.02257537841797</td>\n      <td>NaN</td>\n      <td>NaN</td>\n      <td>...</td>\n      <td>NaN</td>\n      <td>10800.0</td>\n      <td>NaN</td>\n      <td>48051995.0</td>\n      <td>43733533.0</td>\n      <td>38730.0</td>\n      <td>NaN</td>\n      <td>NaN</td>\n      <td>4000.0</td>\n      <td>NaN</td>\n    </tr>\n    <tr>\n      <th>3</th>\n      <td>1996-01-02</td>\n      <td>NaN</td>\n      <td>NaN</td>\n      <td>NaN</td>\n      <td>NaN</td>\n      <td>NaN</td>\n      <td>NaN</td>\n      <td>48.60489273071289</td>\n      <td>NaN</td>\n      <td>NaN</td>\n      <td>...</td>\n      <td>NaN</td>\n      <td>27000.0</td>\n      <td>NaN</td>\n      <td>77875009.0</td>\n      <td>56167280.0</td>\n      <td>77460.0</td>\n      <td>NaN</td>\n      <td>NaN</td>\n      <td>24000.0</td>\n      <td>NaN</td>\n    </tr>\n    <tr>\n      <th>4</th>\n      <td>1996-01-03</td>\n      <td>NaN</td>\n      <td>NaN</td>\n      <td>NaN</td>\n      <td>NaN</td>\n      <td>NaN</td>\n      <td>NaN</td>\n      <td>48.62687683105469</td>\n      <td>NaN</td>\n      <td>NaN</td>\n      <td>...</td>\n      <td>NaN</td>\n      <td>10800.0</td>\n      <td>NaN</td>\n      <td>96602936.0</td>\n      <td>68296318.0</td>\n      <td>12910.0</td>\n      <td>NaN</td>\n      <td>NaN</td>\n      <td>22000.0</td>\n      <td>NaN</td>\n    </tr>\n    <tr>\n      <th>...</th>\n      <td>...</td>\n      <td>...</td>\n      <td>...</td>\n      <td>...</td>\n      <td>...</td>\n      <td>...</td>\n      <td>...</td>\n      <td>...</td>\n      <td>...</td>\n      <td>...</td>\n      <td>...</td>\n      <td>...</td>\n      <td>...</td>\n      <td>...</td>\n      <td>...</td>\n      <td>...</td>\n      <td>...</td>\n      <td>...</td>\n      <td>...</td>\n      <td>...</td>\n      <td>...</td>\n    </tr>\n    <tr>\n      <th>6330</th>\n      <td>2021-02-25</td>\n      <td>2373.75</td>\n      <td>770.650024</td>\n      <td>3944.800049</td>\n      <td>10264.450195</td>\n      <td>5529.950195</td>\n      <td>579.150024</td>\n      <td>4480.149902</td>\n      <td>929.25</td>\n      <td>2684.699951</td>\n      <td>...</td>\n      <td>68361756.0</td>\n      <td>62038881.0</td>\n      <td>17266549.0</td>\n      <td>16085897.0</td>\n      <td>46988836.0</td>\n      <td>6261754.0</td>\n      <td>4224073.0</td>\n      <td>3682791.0</td>\n      <td>1967386.0</td>\n      <td>803072.0</td>\n    </tr>\n    <tr>\n      <th>6331</th>\n      <td>2021-02-26</td>\n      <td>2277.199951</td>\n      <td>724.799988</td>\n      <td>3798.699951</td>\n      <td>9648.599609</td>\n      <td>5264.899902</td>\n      <td>556.299988</td>\n      <td>4426.549805</td>\n      <td>909.450012</td>\n      <td>2539.399902</td>\n      <td>...</td>\n      <td>67331805.0</td>\n      <td>55154985.0</td>\n      <td>21414774.0</td>\n      <td>17297575.0</td>\n      <td>64450414.0</td>\n      <td>15404415.0</td>\n      <td>5553153.0</td>\n      <td>5254937.0</td>\n      <td>2715597.0</td>\n      <td>1307673.0</td>\n    </tr>\n    <tr>\n      <th>6332</th>\n      <td>2021-03-01</td>\n      <td>2362.300049</td>\n      <td>728.549988</td>\n      <td>3814.050049</td>\n      <td>9774.049805</td>\n      <td>5266.799805</td>\n      <td>532.200012</td>\n      <td>4453.399902</td>\n      <td>930.349976</td>\n      <td>2606.0</td>\n      <td>...</td>\n      <td>27205189.0</td>\n      <td>41672980.0</td>\n      <td>17686096.0</td>\n      <td>8159670.0</td>\n      <td>29677890.0</td>\n      <td>5274758.0</td>\n      <td>3265871.0</td>\n      <td>3429569.0</td>\n      <td>1962042.0</td>\n      <td>609302.0</td>\n    </tr>\n    <tr>\n      <th>6333</th>\n      <td>2021-03-02</td>\n      <td>2390.399902</td>\n      <td>731.25</td>\n      <td>3944.050049</td>\n      <td>9877.0</td>\n      <td>5316.299805</td>\n      <td>541.200012</td>\n      <td>4404.700195</td>\n      <td>953.75</td>\n      <td>2564.0</td>\n      <td>...</td>\n      <td>53649872.0</td>\n      <td>36303917.0</td>\n      <td>10250883.0</td>\n      <td>7915073.0</td>\n      <td>30534337.0</td>\n      <td>4776776.0</td>\n      <td>3306469.0</td>\n      <td>3703190.0</td>\n      <td>1293306.0</td>\n      <td>438046.0</td>\n    </tr>\n    <tr>\n      <th>6334</th>\n      <td>2021-03-03</td>\n      <td>2404.5</td>\n      <td>753.900024</td>\n      <td>3900.050049</td>\n      <td>10382.0</td>\n      <td>5528.899902</td>\n      <td>545.599976</td>\n      <td>4497.850098</td>\n      <td>965.900024</td>\n      <td>2657.699951</td>\n      <td>...</td>\n      <td>28192487.0</td>\n      <td>17042757.0</td>\n      <td>10059580.0</td>\n      <td>11454823.0</td>\n      <td>42893113.0</td>\n      <td>5934265.0</td>\n      <td>3172593.0</td>\n      <td>2972717.0</td>\n      <td>1124391.0</td>\n      <td>420043.0</td>\n    </tr>\n  </tbody>\n</table>\n<p>6335 rows × 181 columns</p>\n</div>"
     },
     "metadata": {},
     "execution_count": 2
    }
   ],
   "source": [
    "df = pd.read_csv('stockdata.csv')\n",
    "df"
   ]
  },
  {
   "cell_type": "code",
   "execution_count": 3,
   "metadata": {},
   "outputs": [
    {
     "output_type": "execute_result",
     "data": {
      "text/plain": [
       "      Unnamed: 0    Adj Close Adj Close.1  Adj Close.2   Adj Close.3  \\\n",
       "2     1996-01-01          NaN         NaN          NaN           NaN   \n",
       "3     1996-01-02          NaN         NaN          NaN           NaN   \n",
       "4     1996-01-03          NaN         NaN          NaN           NaN   \n",
       "5     1996-01-04          NaN         NaN          NaN           NaN   \n",
       "6     1996-01-05          NaN         NaN          NaN           NaN   \n",
       "...          ...          ...         ...          ...           ...   \n",
       "6330  2021-02-25      2373.75  770.650024  3944.800049  10264.450195   \n",
       "6331  2021-02-26  2277.199951  724.799988  3798.699951   9648.599609   \n",
       "6332  2021-03-01  2362.300049  728.549988  3814.050049   9774.049805   \n",
       "6333  2021-03-02  2390.399902      731.25  3944.050049        9877.0   \n",
       "6334  2021-03-03       2404.5  753.900024  3900.050049       10382.0   \n",
       "\n",
       "      Adj Close.4 Adj Close.5         Adj Close.6 Adj Close.7  Adj Close.8  \\\n",
       "2             NaN         NaN   49.02257537841797         NaN          NaN   \n",
       "3             NaN         NaN   48.60489273071289         NaN          NaN   \n",
       "4             NaN         NaN   48.62687683105469         NaN          NaN   \n",
       "5             NaN         NaN  46.879207611083984         NaN          NaN   \n",
       "6             NaN         NaN   45.76905822753906         NaN          NaN   \n",
       "...           ...         ...                 ...         ...          ...   \n",
       "6330  5529.950195  579.150024         4480.149902      929.25  2684.699951   \n",
       "6331  5264.899902  556.299988         4426.549805  909.450012  2539.399902   \n",
       "6332  5266.799805  532.200012         4453.399902  930.349976       2606.0   \n",
       "6333  5316.299805  541.200012         4404.700195      953.75       2564.0   \n",
       "6334  5528.899902  545.599976         4497.850098  965.900024  2657.699951   \n",
       "\n",
       "      ...   Volume.20   Volume.21   Volume.22    Volume.23   Volume.24  \\\n",
       "2     ...         NaN     10800.0         NaN   48051995.0  43733533.0   \n",
       "3     ...         NaN     27000.0         NaN   77875009.0  56167280.0   \n",
       "4     ...         NaN     10800.0         NaN   96602936.0  68296318.0   \n",
       "5     ...         NaN     41400.0         NaN  100099436.0  86073880.0   \n",
       "6     ...         NaN     46800.0         NaN   76935930.0  76613039.0   \n",
       "...   ...         ...         ...         ...          ...         ...   \n",
       "6330  ...  68361756.0  62038881.0  17266549.0   16085897.0  46988836.0   \n",
       "6331  ...  67331805.0  55154985.0  21414774.0   17297575.0  64450414.0   \n",
       "6332  ...  27205189.0  41672980.0  17686096.0    8159670.0  29677890.0   \n",
       "6333  ...  53649872.0  36303917.0  10250883.0    7915073.0  30534337.0   \n",
       "6334  ...  28192487.0  17042757.0  10059580.0   11454823.0  42893113.0   \n",
       "\n",
       "       Volume.25  Volume.26  Volume.27  Volume.28  Volume.29  \n",
       "2        38730.0        NaN        NaN     4000.0        NaN  \n",
       "3        77460.0        NaN        NaN    24000.0        NaN  \n",
       "4        12910.0        NaN        NaN    22000.0        NaN  \n",
       "5        64550.0        NaN        NaN    46000.0        NaN  \n",
       "6        12910.0        NaN        NaN    20000.0        NaN  \n",
       "...          ...        ...        ...        ...        ...  \n",
       "6330   6261754.0  4224073.0  3682791.0  1967386.0   803072.0  \n",
       "6331  15404415.0  5553153.0  5254937.0  2715597.0  1307673.0  \n",
       "6332   5274758.0  3265871.0  3429569.0  1962042.0   609302.0  \n",
       "6333   4776776.0  3306469.0  3703190.0  1293306.0   438046.0  \n",
       "6334   5934265.0  3172593.0  2972717.0  1124391.0   420043.0  \n",
       "\n",
       "[6333 rows x 181 columns]"
      ],
      "text/html": "<div>\n<style scoped>\n    .dataframe tbody tr th:only-of-type {\n        vertical-align: middle;\n    }\n\n    .dataframe tbody tr th {\n        vertical-align: top;\n    }\n\n    .dataframe thead th {\n        text-align: right;\n    }\n</style>\n<table border=\"1\" class=\"dataframe\">\n  <thead>\n    <tr style=\"text-align: right;\">\n      <th></th>\n      <th>Unnamed: 0</th>\n      <th>Adj Close</th>\n      <th>Adj Close.1</th>\n      <th>Adj Close.2</th>\n      <th>Adj Close.3</th>\n      <th>Adj Close.4</th>\n      <th>Adj Close.5</th>\n      <th>Adj Close.6</th>\n      <th>Adj Close.7</th>\n      <th>Adj Close.8</th>\n      <th>...</th>\n      <th>Volume.20</th>\n      <th>Volume.21</th>\n      <th>Volume.22</th>\n      <th>Volume.23</th>\n      <th>Volume.24</th>\n      <th>Volume.25</th>\n      <th>Volume.26</th>\n      <th>Volume.27</th>\n      <th>Volume.28</th>\n      <th>Volume.29</th>\n    </tr>\n  </thead>\n  <tbody>\n    <tr>\n      <th>2</th>\n      <td>1996-01-01</td>\n      <td>NaN</td>\n      <td>NaN</td>\n      <td>NaN</td>\n      <td>NaN</td>\n      <td>NaN</td>\n      <td>NaN</td>\n      <td>49.02257537841797</td>\n      <td>NaN</td>\n      <td>NaN</td>\n      <td>...</td>\n      <td>NaN</td>\n      <td>10800.0</td>\n      <td>NaN</td>\n      <td>48051995.0</td>\n      <td>43733533.0</td>\n      <td>38730.0</td>\n      <td>NaN</td>\n      <td>NaN</td>\n      <td>4000.0</td>\n      <td>NaN</td>\n    </tr>\n    <tr>\n      <th>3</th>\n      <td>1996-01-02</td>\n      <td>NaN</td>\n      <td>NaN</td>\n      <td>NaN</td>\n      <td>NaN</td>\n      <td>NaN</td>\n      <td>NaN</td>\n      <td>48.60489273071289</td>\n      <td>NaN</td>\n      <td>NaN</td>\n      <td>...</td>\n      <td>NaN</td>\n      <td>27000.0</td>\n      <td>NaN</td>\n      <td>77875009.0</td>\n      <td>56167280.0</td>\n      <td>77460.0</td>\n      <td>NaN</td>\n      <td>NaN</td>\n      <td>24000.0</td>\n      <td>NaN</td>\n    </tr>\n    <tr>\n      <th>4</th>\n      <td>1996-01-03</td>\n      <td>NaN</td>\n      <td>NaN</td>\n      <td>NaN</td>\n      <td>NaN</td>\n      <td>NaN</td>\n      <td>NaN</td>\n      <td>48.62687683105469</td>\n      <td>NaN</td>\n      <td>NaN</td>\n      <td>...</td>\n      <td>NaN</td>\n      <td>10800.0</td>\n      <td>NaN</td>\n      <td>96602936.0</td>\n      <td>68296318.0</td>\n      <td>12910.0</td>\n      <td>NaN</td>\n      <td>NaN</td>\n      <td>22000.0</td>\n      <td>NaN</td>\n    </tr>\n    <tr>\n      <th>5</th>\n      <td>1996-01-04</td>\n      <td>NaN</td>\n      <td>NaN</td>\n      <td>NaN</td>\n      <td>NaN</td>\n      <td>NaN</td>\n      <td>NaN</td>\n      <td>46.879207611083984</td>\n      <td>NaN</td>\n      <td>NaN</td>\n      <td>...</td>\n      <td>NaN</td>\n      <td>41400.0</td>\n      <td>NaN</td>\n      <td>100099436.0</td>\n      <td>86073880.0</td>\n      <td>64550.0</td>\n      <td>NaN</td>\n      <td>NaN</td>\n      <td>46000.0</td>\n      <td>NaN</td>\n    </tr>\n    <tr>\n      <th>6</th>\n      <td>1996-01-05</td>\n      <td>NaN</td>\n      <td>NaN</td>\n      <td>NaN</td>\n      <td>NaN</td>\n      <td>NaN</td>\n      <td>NaN</td>\n      <td>45.76905822753906</td>\n      <td>NaN</td>\n      <td>NaN</td>\n      <td>...</td>\n      <td>NaN</td>\n      <td>46800.0</td>\n      <td>NaN</td>\n      <td>76935930.0</td>\n      <td>76613039.0</td>\n      <td>12910.0</td>\n      <td>NaN</td>\n      <td>NaN</td>\n      <td>20000.0</td>\n      <td>NaN</td>\n    </tr>\n    <tr>\n      <th>...</th>\n      <td>...</td>\n      <td>...</td>\n      <td>...</td>\n      <td>...</td>\n      <td>...</td>\n      <td>...</td>\n      <td>...</td>\n      <td>...</td>\n      <td>...</td>\n      <td>...</td>\n      <td>...</td>\n      <td>...</td>\n      <td>...</td>\n      <td>...</td>\n      <td>...</td>\n      <td>...</td>\n      <td>...</td>\n      <td>...</td>\n      <td>...</td>\n      <td>...</td>\n      <td>...</td>\n    </tr>\n    <tr>\n      <th>6330</th>\n      <td>2021-02-25</td>\n      <td>2373.75</td>\n      <td>770.650024</td>\n      <td>3944.800049</td>\n      <td>10264.450195</td>\n      <td>5529.950195</td>\n      <td>579.150024</td>\n      <td>4480.149902</td>\n      <td>929.25</td>\n      <td>2684.699951</td>\n      <td>...</td>\n      <td>68361756.0</td>\n      <td>62038881.0</td>\n      <td>17266549.0</td>\n      <td>16085897.0</td>\n      <td>46988836.0</td>\n      <td>6261754.0</td>\n      <td>4224073.0</td>\n      <td>3682791.0</td>\n      <td>1967386.0</td>\n      <td>803072.0</td>\n    </tr>\n    <tr>\n      <th>6331</th>\n      <td>2021-02-26</td>\n      <td>2277.199951</td>\n      <td>724.799988</td>\n      <td>3798.699951</td>\n      <td>9648.599609</td>\n      <td>5264.899902</td>\n      <td>556.299988</td>\n      <td>4426.549805</td>\n      <td>909.450012</td>\n      <td>2539.399902</td>\n      <td>...</td>\n      <td>67331805.0</td>\n      <td>55154985.0</td>\n      <td>21414774.0</td>\n      <td>17297575.0</td>\n      <td>64450414.0</td>\n      <td>15404415.0</td>\n      <td>5553153.0</td>\n      <td>5254937.0</td>\n      <td>2715597.0</td>\n      <td>1307673.0</td>\n    </tr>\n    <tr>\n      <th>6332</th>\n      <td>2021-03-01</td>\n      <td>2362.300049</td>\n      <td>728.549988</td>\n      <td>3814.050049</td>\n      <td>9774.049805</td>\n      <td>5266.799805</td>\n      <td>532.200012</td>\n      <td>4453.399902</td>\n      <td>930.349976</td>\n      <td>2606.0</td>\n      <td>...</td>\n      <td>27205189.0</td>\n      <td>41672980.0</td>\n      <td>17686096.0</td>\n      <td>8159670.0</td>\n      <td>29677890.0</td>\n      <td>5274758.0</td>\n      <td>3265871.0</td>\n      <td>3429569.0</td>\n      <td>1962042.0</td>\n      <td>609302.0</td>\n    </tr>\n    <tr>\n      <th>6333</th>\n      <td>2021-03-02</td>\n      <td>2390.399902</td>\n      <td>731.25</td>\n      <td>3944.050049</td>\n      <td>9877.0</td>\n      <td>5316.299805</td>\n      <td>541.200012</td>\n      <td>4404.700195</td>\n      <td>953.75</td>\n      <td>2564.0</td>\n      <td>...</td>\n      <td>53649872.0</td>\n      <td>36303917.0</td>\n      <td>10250883.0</td>\n      <td>7915073.0</td>\n      <td>30534337.0</td>\n      <td>4776776.0</td>\n      <td>3306469.0</td>\n      <td>3703190.0</td>\n      <td>1293306.0</td>\n      <td>438046.0</td>\n    </tr>\n    <tr>\n      <th>6334</th>\n      <td>2021-03-03</td>\n      <td>2404.5</td>\n      <td>753.900024</td>\n      <td>3900.050049</td>\n      <td>10382.0</td>\n      <td>5528.899902</td>\n      <td>545.599976</td>\n      <td>4497.850098</td>\n      <td>965.900024</td>\n      <td>2657.699951</td>\n      <td>...</td>\n      <td>28192487.0</td>\n      <td>17042757.0</td>\n      <td>10059580.0</td>\n      <td>11454823.0</td>\n      <td>42893113.0</td>\n      <td>5934265.0</td>\n      <td>3172593.0</td>\n      <td>2972717.0</td>\n      <td>1124391.0</td>\n      <td>420043.0</td>\n    </tr>\n  </tbody>\n</table>\n<p>6333 rows × 181 columns</p>\n</div>"
     },
     "metadata": {},
     "execution_count": 3
    }
   ],
   "source": [
    "df = df[2:]\n",
    "df"
   ]
  },
  {
   "cell_type": "code",
   "execution_count": 7,
   "metadata": {},
   "outputs": [
    {
     "output_type": "execute_result",
     "data": {
      "text/plain": [
       "2         55.750000\n",
       "3         55.275002\n",
       "4         55.299999\n",
       "5         53.312500\n",
       "6         52.049999\n",
       "           ...     \n",
       "6330    4480.149902\n",
       "6331    4426.549805\n",
       "6332    4453.399902\n",
       "6333    4404.700195\n",
       "6334    4497.850098\n",
       "Name: Close.6, Length: 6333, dtype: float64"
      ]
     },
     "metadata": {},
     "execution_count": 7
    }
   ],
   "source": [
    "close_data = df['Close.6'].astype('float64')\n",
    "close_data"
   ]
  },
  {
   "cell_type": "code",
   "execution_count": null,
   "metadata": {},
   "outputs": [],
   "source": []
  }
 ]
}