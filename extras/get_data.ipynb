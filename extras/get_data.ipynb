{
 "cells": [
  {
   "cell_type": "code",
   "execution_count": 1,
   "metadata": {},
   "outputs": [
    {
     "output_type": "stream",
     "name": "stdout",
     "text": "['MARUTI.NS', 'WIPRO.NS', 'BAJAJFINSV.NS', 'TITAN.NS', 'KOTAKBANK.NS', 'ONGC.NS', 'HEROMOTOCO.NS', 'BAJAJ-AUTO.NS', 'TCS.NS', 'BHARTIARTL.NS', 'COALINDIA.NS', 'MM.NS', 'TECHM.NS', 'CIPLA.NS', 'BRITANNIA.NS', 'INDUSINDBK.NS', 'HINDALCO.NS', 'HDFCLIFE.NS', 'LT.NS', 'SHREECEM.NS', 'ICICIBANK.NS', 'BAJFINANCE.NS', 'NESTLEIND.NS', 'GRASIM.NS', 'ITC.NS', 'ULTRACEMCO.NS', 'GAIL.NS', 'RELIANCE.NS', 'TATASTEEL.NS', 'NTPC.NS']\n[*********************100%***********************]  1 of 1 completed\n                   Open         High      Low        Close    Adj Close  \\\nDate                                                                      \n2003-07-09   164.899994   170.399994   155.00   164.300003   145.821350   \n2003-07-10   167.000000   168.699997   164.50   167.000000   148.217697   \n2003-07-11   167.750000   174.850006   166.25   173.350006   153.853546   \n2003-07-14   174.250000   179.250000   174.25   177.949997   157.936172   \n2003-07-15   200.000000   200.000000   173.00   176.199997   156.382950   \n...                 ...          ...      ...          ...          ...   \n2021-03-15  7145.000000  7162.950195  7011.00  7089.299805  7089.299805   \n2021-03-16  7100.000000  7200.000000  7100.00  7150.299805  7150.299805   \n2021-03-17  7160.000000  7169.950195  7043.50  7064.649902  7064.649902   \n2021-03-18  7125.000000  7242.000000  7060.00  7113.750000  7113.750000   \n2021-03-19  7059.950195  7149.950195  6905.50  7113.549805  7113.549805   \n\n              Volume  \nDate                  \n2003-07-09  35164284  \n2003-07-10  10464179  \n2003-07-11  11740117  \n2003-07-14   5982324  \n2003-07-15   6173689  \n...              ...  \n2021-03-15    700250  \n2021-03-16    796357  \n2021-03-17    688581  \n2021-03-18    984545  \n2021-03-19    838756  \n\n[4382 rows x 6 columns]\n"
    }
   ],
   "source": [
    "import yfinance as yf\n",
    "import pandas as pd\n",
    "df=pd.read_html('https://in.finance.yahoo.com/quote/%5ENSEI/components?p=%5ENSEI&.tsrc=fin-srch')[0]\n",
    "tickers=df.Symbol.to_list()\n",
    "print(tickers)\n",
    "ticker='xyz'\n",
    "while ticker not in tickers:\n",
    "  ticker=input(\"choose one from the list:\")\n",
    "df1=yf.download(ticker)\n",
    "print(df1)"
   ]
  },
  {
   "cell_type": "code",
   "execution_count": null,
   "metadata": {},
   "outputs": [],
   "source": []
  }
 ],
 "metadata": {
  "language_info": {
   "codemirror_mode": {
    "name": "ipython",
    "version": 3
   },
   "file_extension": ".py",
   "mimetype": "text/x-python",
   "name": "python",
   "nbconvert_exporter": "python",
   "pygments_lexer": "ipython3",
   "version": "3.7.6-final"
  },
  "orig_nbformat": 2,
  "kernelspec": {
   "name": "python3",
   "display_name": "Python 3"
  }
 },
 "nbformat": 4,
 "nbformat_minor": 2
}